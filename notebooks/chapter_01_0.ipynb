{
 "cells": [
  {
   "cell_type": "markdown",
   "metadata": {},
   "source": [
    "# Chapter 1: Introduction to LLM Evaluation"
   ]
  },
  {
   "cell_type": "markdown",
   "metadata": {},
   "source": [
    "## Setup"
   ]
  },
  {
   "cell_type": "code",
   "execution_count": 1,
   "metadata": {},
   "outputs": [],
   "source": [
    "import weave\n",
    "from set_env import set_env\n",
    "import nest_asyncio\n",
    "import json\n",
    "import asyncio"
   ]
  },
  {
   "cell_type": "code",
   "execution_count": 2,
   "metadata": {},
   "outputs": [
    {
     "name": "stdout",
     "output_type": "stream",
     "text": [
      "Env set\n"
     ]
    }
   ],
   "source": [
    "set_env(\"GOOGLE_API_KEY\")\n",
    "set_env(\"WANDB_API_KEY\")\n",
    "print(\"Env set\")"
   ]
  },
  {
   "cell_type": "code",
   "execution_count": 3,
   "metadata": {},
   "outputs": [],
   "source": [
    "try:\n",
    "    import IPython\n",
    "    in_jupyter = True\n",
    "except ImportError:\n",
    "    in_jupyter = False\n",
    "if in_jupyter:\n",
    "    nest_asyncio.apply()"
   ]
  },
  {
   "cell_type": "code",
   "execution_count": 6,
   "metadata": {},
   "outputs": [],
   "source": [
    "from utils.config import WEAVE_PROJECT, ENTITY, MODEL, MODEL_CLIENT\n",
    "from utils.prompts import medical_task, medical_system_prompt \n",
    "from utils.render import display_prompt, print_dialogue_data\n",
    "from utils.llm_client import LLMClient\n",
    "from utils.prompts import medical_privacy_judge_prompt, MedicalPrivacyJudgement, medical_task_score_prompt, MedicalTaskScoreJudgement, medical_task_score_system_prompt, medical_privacy_system_prompt\n",
    "from utils.evals import get_evaluation_predictions, calculate_kappa_scores, calculate_weighted_alignment"
   ]
  },
  {
   "cell_type": "markdown",
   "metadata": {},
   "source": [
    "## Understanding Medical Data Extraction Evaluation\n",
    "\n",
    "### The Task: What Are We Trying to Do?\n",
    "\n",
    "#### Raw Data Format\n",
    "Medical conversations are messy and unstructured. Looking at our example data:\n",
    "\n",
    "1. **Dialogue Format**:\n",
    "- Back-and-forth conversation between doctor and patient\n",
    "- Contains personal details, small talk, and medical information mixed together\n",
    "- Informal language (\"hey\", \"mm-hmm\", \"yeah\")\n",
    "- Important details scattered throughout\n",
    "\n",
    "2. **Medical Notes**:\n",
    "- More structured but still in prose\n",
    "- Contains standardized sections (CHIEF COMPLAINT, HISTORY, etc.)\n",
    "- Includes sensitive information (names, ages)\n",
    "- Medical terminology and abbreviations\n",
    "\n",
    "#### Extraction Goals\n",
    "The LLM needs to:\n",
    "1. Find relevant information\n",
    "2. Ignore irrelevant details\n",
    "3. Standardize the format\n",
    "4. Protect patient privacy\n",
    "5. Maintain medical accuracy"
   ]
  },
  {
   "cell_type": "code",
   "execution_count": null,
   "metadata": {},
   "outputs": [],
   "source": [
    "weave_client = weave.init(f\"{ENTITY}/{WEAVE_PROJECT}\")"
   ]
  },
  {
   "cell_type": "code",
   "execution_count": null,
   "metadata": {},
   "outputs": [],
   "source": [
    "display_prompt(medical_system_prompt)\n",
    "display_prompt(medical_task)"
   ]
  },
  {
   "cell_type": "markdown",
   "metadata": {},
   "source": [
    "<div align=\"center\">\n",
    "    <img src=\"./media/medical_chatbot.png\" width=\"250\"/>\n",
    "</div>"
   ]
  },
  {
   "cell_type": "code",
   "execution_count": null,
   "metadata": {},
   "outputs": [],
   "source": [
    "annotated_medical_data = weave.ref(f\"weave:///{ENTITY}/{WEAVE_PROJECT}/object/medical_data_annotations:latest\").get()\n",
    "# annotated_medical_data = weave.ref(\"weave:///a-sh0ts/eval_course_ch1_dev/object/medical_data_annotations:At9gri9UasftpPe5VNzT3EuIXQWAo5MYX8aMf2cuE8A\").get()"
   ]
  },
  {
   "cell_type": "code",
   "execution_count": 10,
   "metadata": {},
   "outputs": [
    {
     "data": {
      "text/html": [
       "<pre style=\"white-space:pre;overflow-x:auto;line-height:normal;font-family:Menlo,'DejaVu Sans Mono',consolas,'Courier New',monospace\"><span style=\"color: #000080; text-decoration-color: #000080\">╭────────────────────────────────────────────────────</span><span style=\"color: #008080; text-decoration-color: #008080; font-weight: bold\">  Input  </span><span style=\"color: #000080; text-decoration-color: #000080\">────────────────────────────────────────────────────╮</span>\n",
       "<span style=\"color: #000080; text-decoration-color: #000080\">│</span>                                                                                                                 <span style=\"color: #000080; text-decoration-color: #000080\">│</span>\n",
       "<span style=\"color: #000080; text-decoration-color: #000080\">│</span>  input: Dialogue:  hey dylan what's going on so i lift quite a bit of weights i try to stay in shape as much    <span style=\"color: #000080; text-decoration-color: #000080\">│</span>\n",
       "<span style=\"color: #000080; text-decoration-color: #000080\">│</span>  as i can i'm not like normal people i lift heavy weights and my elbow is extremely sore which elbow is it      <span style=\"color: #000080; text-decoration-color: #000080\">│</span>\n",
       "<span style=\"color: #000080; text-decoration-color: #000080\">│</span>  actually it's both my elbows but my right elbow is hurting me the most  okay and you said you lift a lot of    <span style=\"color: #000080; text-decoration-color: #000080\">│</span>\n",
       "<span style=\"color: #000080; text-decoration-color: #000080\">│</span>  weights  mm-hmm  did you play any sports when you were younger  no anything you can think of primarily it was  <span style=\"color: #000080; text-decoration-color: #000080\">│</span>\n",
       "<span style=\"color: #000080; text-decoration-color: #000080\">│</span>  basketball baseball and football  okay and did your elbows hurt at that time or is this a a new injury  it's   <span style=\"color: #000080; text-decoration-color: #000080\">│</span>\n",
       "<span style=\"color: #000080; text-decoration-color: #000080\">│</span>  new  when did it start  probably year and a half ago  okay on both elbows about a year and a half ago  yeah    <span style=\"color: #000080; text-decoration-color: #000080\">│</span>\n",
       "<span style=\"color: #000080; text-decoration-color: #000080\">│</span>  okay have you taken anything for the pain  ibuprofen eight hundred milligrams three times a day  okay and      <span style=\"color: #000080; text-decoration-color: #000080\">│</span>\n",
       "<span style=\"color: #000080; text-decoration-color: #000080\">│</span>  does anything make it better or worse  the more i use my hands or my arms the more it hurts  okay have you     <span style=\"color: #000080; text-decoration-color: #000080\">│</span>\n",
       "<span style=\"color: #000080; text-decoration-color: #000080\">│</span>  tried icing  yes  does that give you any relief  no  alright is it the inside or outside of your elbows        <span style=\"color: #000080; text-decoration-color: #000080\">│</span>\n",
       "<span style=\"color: #000080; text-decoration-color: #000080\">│</span>  inside  inside okay let's just do a quick physical exam here i'll take a look at your right elbow first        <span style=\"color: #000080; text-decoration-color: #000080\">│</span>\n",
       "<span style=\"color: #000080; text-decoration-color: #000080\">│</span>  mm-hmm  if i bend it this way up does it hurt it's your left does that hurt  yes  how about this  yes  okay    <span style=\"color: #000080; text-decoration-color: #000080\">│</span>\n",
       "<span style=\"color: #000080; text-decoration-color: #000080\">│</span>  so pain with both flexion and extension  mm-hmm  looks like you have little bit of limited range of motion on  <span style=\"color: #000080; text-decoration-color: #000080\">│</span>\n",
       "<span style=\"color: #000080; text-decoration-color: #000080\">│</span>  extension not on flexion though you said it hurts right here on the inside of your elbow  yes  okay so pain    <span style=\"color: #000080; text-decoration-color: #000080\">│</span>\n",
       "<span style=\"color: #000080; text-decoration-color: #000080\">│</span>  on the medial side with palpation  yes  alright how about the outside  no  no pain with palpation outside of   <span style=\"color: #000080; text-decoration-color: #000080\">│</span>\n",
       "<span style=\"color: #000080; text-decoration-color: #000080\">│</span>  the elbow you have do you have normal sensation in your fingers  i think so  yeah  yeah  okay great  good to   <span style=\"color: #000080; text-decoration-color: #000080\">│</span>\n",
       "<span style=\"color: #000080; text-decoration-color: #000080\">│</span>  go  sensation is normal to the touch  yes  pulses equal in all extremities how about the left elbow same       <span style=\"color: #000080; text-decoration-color: #000080\">│</span>\n",
       "<span style=\"color: #000080; text-decoration-color: #000080\">│</span>  thing if i bend it this way does that hurt  not as much  how about this way  not as much  alright so little    <span style=\"color: #000080; text-decoration-color: #000080\">│</span>\n",
       "<span style=\"color: #000080; text-decoration-color: #000080\">│</span>  bit of pain on flexion and extension little bit of limited range of motion on extension of the arm how about   <span style=\"color: #000080; text-decoration-color: #000080\">│</span>\n",
       "<span style=\"color: #000080; text-decoration-color: #000080\">│</span>  if you twist like you're opening a door  yes  okay so some pain with torsion and twisting supination what      <span style=\"color: #000080; text-decoration-color: #000080\">│</span>\n",
       "<span style=\"color: #000080; text-decoration-color: #000080\">│</span>  about pronation  no  no pain with pronation on the right side  mm-hmm  same thing on the left  yes  pain with  <span style=\"color: #000080; text-decoration-color: #000080\">│</span>\n",
       "<span style=\"color: #000080; text-decoration-color: #000080\">│</span>  supination no pain with pronation  correct  alright so dylan it took some x-rays coming in looks like you do   <span style=\"color: #000080; text-decoration-color: #000080\">│</span>\n",
       "<span style=\"color: #000080; text-decoration-color: #000080\">│</span>  n't have any any fractures or any bony misalignment which i expect with this kind of injury i do think that    <span style=\"color: #000080; text-decoration-color: #000080\">│</span>\n",
       "<span style=\"color: #000080; text-decoration-color: #000080\">│</span>  what you have is medial epicondylitis which is  is that golfer's elbow  yes same thing have you been golfing   <span style=\"color: #000080; text-decoration-color: #000080\">│</span>\n",
       "<span style=\"color: #000080; text-decoration-color: #000080\">│</span>  a lot  well not in the past year and a half i've had this for a long time  okay also known as pictures elbow   <span style=\"color: #000080; text-decoration-color: #000080\">│</span>\n",
       "<span style=\"color: #000080; text-decoration-color: #000080\">│</span>  well i have n't been pitching either  hmmm well in any case what i'm gon na have to do is i'm gon na send you  <span style=\"color: #000080; text-decoration-color: #000080\">│</span>\n",
       "<span style=\"color: #000080; text-decoration-color: #000080\">│</span>  up for mri to take another look at this  mm-hmm  that will be our next step so we'll get you scheduled for     <span style=\"color: #000080; text-decoration-color: #000080\">│</span>\n",
       "<span style=\"color: #000080; text-decoration-color: #000080\">│</span>  the mri probably get you in pretty quick here since we're a private practice  thank god  yeah and once you     <span style=\"color: #000080; text-decoration-color: #000080\">│</span>\n",
       "<span style=\"color: #000080; text-decoration-color: #000080\">│</span>  get the mri i'll know a little bit more what i'd like to do is something called a whole blood transfusion      <span style=\"color: #000080; text-decoration-color: #000080\">│</span>\n",
       "<span style=\"color: #000080; text-decoration-color: #000080\">│</span>  have you heard of that before  no please tell me remind me  yeah it should help with the healing of your       <span style=\"color: #000080; text-decoration-color: #000080\">│</span>\n",
       "<span style=\"color: #000080; text-decoration-color: #000080\">│</span>  elbow it's just a procedure we'll stick a needle in your elbow  you do a stick needle in my elbow  mm-hmm and  <span style=\"color: #000080; text-decoration-color: #000080\">│</span>\n",
       "<span style=\"color: #000080; text-decoration-color: #000080\">│</span>  help with some of the healing of your elbow  so it's kinda like dry needling then  no  not at all  what is it  <span style=\"color: #000080; text-decoration-color: #000080\">│</span>\n",
       "<span style=\"color: #000080; text-decoration-color: #000080\">│</span>  is it is that that thing where like you take the blood out of like say my my thigh  mm-hmm  and then you       <span style=\"color: #000080; text-decoration-color: #000080\">│</span>\n",
       "<span style=\"color: #000080; text-decoration-color: #000080\">│</span>  literally inject it into my tendon  yes  that it activates the healing  yeah that's exactly what it is         <span style=\"color: #000080; text-decoration-color: #000080\">│</span>\n",
       "<span style=\"color: #000080; text-decoration-color: #000080\">│</span>  interesting cool  yeah  maybe i have heard about that  we've we've had some really good responses from other   <span style=\"color: #000080; text-decoration-color: #000080\">│</span>\n",
       "<span style=\"color: #000080; text-decoration-color: #000080\">│</span>  patients on it so hopefully i mean that should be a good solution for you since you've been having issues      <span style=\"color: #000080; text-decoration-color: #000080\">│</span>\n",
       "<span style=\"color: #000080; text-decoration-color: #000080\">│</span>  with this  i'm excited  yeah and we can hopefully get you scheduled for that in the next couple of weeks it's  <span style=\"color: #000080; text-decoration-color: #000080\">│</span>\n",
       "<span style=\"color: #000080; text-decoration-color: #000080\">│</span>  not not a major procedure and you should heal in the next two weeks so that wo n't be a problem especially     <span style=\"color: #000080; text-decoration-color: #000080\">│</span>\n",
       "<span style=\"color: #000080; text-decoration-color: #000080\">│</span>  considering that you're expecting a newborn soon we want to make sure you're all healed for that  wow i did    <span style=\"color: #000080; text-decoration-color: #000080\">│</span>\n",
       "<span style=\"color: #000080; text-decoration-color: #000080\">│</span>  n't even say that  i read it in your chart  man you doctors are good  yeah anything else going on today  just  <span style=\"color: #000080; text-decoration-color: #000080\">│</span>\n",
       "<span style=\"color: #000080; text-decoration-color: #000080\">│</span>  trying to figure out how you're doing  very good thank you  you're welcome  nice to see you  you have a good   <span style=\"color: #000080; text-decoration-color: #000080\">│</span>\n",
       "<span style=\"color: #000080; text-decoration-color: #000080\">│</span>  day                                                                                                            <span style=\"color: #000080; text-decoration-color: #000080\">│</span>\n",
       "<span style=\"color: #000080; text-decoration-color: #000080\">│</span>                                                                                                                 <span style=\"color: #000080; text-decoration-color: #000080\">│</span>\n",
       "<span style=\"color: #000080; text-decoration-color: #000080\">│</span>  Medical Note: CHIEF COMPLAINT  Bilateral elbow pain, right worse than left.  HISTORY OF PRESENT ILLNESS        <span style=\"color: #000080; text-decoration-color: #000080\">│</span>\n",
       "<span style=\"color: #000080; text-decoration-color: #000080\">│</span>  Dylan Bennett is a pleasant 53-year-old male who presents to the clinic today for the evaluation of bilateral  <span style=\"color: #000080; text-decoration-color: #000080\">│</span>\n",
       "<span style=\"color: #000080; text-decoration-color: #000080\">│</span>  elbow pain, right worse than left.  The patient has been experiencing bilateral elbow pain, right worse than   <span style=\"color: #000080; text-decoration-color: #000080\">│</span>\n",
       "<span style=\"color: #000080; text-decoration-color: #000080\">│</span>  left, for approximately 1.5 years. His pain is localized to the medial aspect of his elbows and is described   <span style=\"color: #000080; text-decoration-color: #000080\">│</span>\n",
       "<span style=\"color: #000080; text-decoration-color: #000080\">│</span>  as being extremely sore, worse with increased use of his upper extremities. Of note, he utilizes heavy         <span style=\"color: #000080; text-decoration-color: #000080\">│</span>\n",
       "<span style=\"color: #000080; text-decoration-color: #000080\">│</span>  weights for strength training and was very active in sports when he was younger, primarily playing             <span style=\"color: #000080; text-decoration-color: #000080\">│</span>\n",
       "<span style=\"color: #000080; text-decoration-color: #000080\">│</span>  basketball, baseball, and football, but he denies having any pain at that time. Applying ice to the area has   <span style=\"color: #000080; text-decoration-color: #000080\">│</span>\n",
       "<span style=\"color: #000080; text-decoration-color: #000080\">│</span>  not been helpful, but he does use ibuprofen 800 mg 3 times daily.  SOCIAL HISTORY  The patient reports that    <span style=\"color: #000080; text-decoration-color: #000080\">│</span>\n",
       "<span style=\"color: #000080; text-decoration-color: #000080\">│</span>  utilizes heavy weights for strength training. He was also very active in sports when he was younger,           <span style=\"color: #000080; text-decoration-color: #000080\">│</span>\n",
       "<span style=\"color: #000080; text-decoration-color: #000080\">│</span>  primarily playing basketball, baseball, and football.  He is expecting a newborn baby in the near future.      <span style=\"color: #000080; text-decoration-color: #000080\">│</span>\n",
       "<span style=\"color: #000080; text-decoration-color: #000080\">│</span>  MEDICATIONS  The patient reports that he has been taking ibuprofen 800 mg 3 times daily.  REVIEW OF SYSTEMS    <span style=\"color: #000080; text-decoration-color: #000080\">│</span>\n",
       "<span style=\"color: #000080; text-decoration-color: #000080\">│</span>  Musculoskeletal: Reports bilateral elbow pain, right worse than left.  PHYSICAL EXAM  CV: Pulses are equal in  <span style=\"color: #000080; text-decoration-color: #000080\">│</span>\n",
       "<span style=\"color: #000080; text-decoration-color: #000080\">│</span>  all extremities. NEURO: Sensation is normal to light touch distally. MSK:  Examination of the right elbow:     <span style=\"color: #000080; text-decoration-color: #000080\">│</span>\n",
       "<span style=\"color: #000080; text-decoration-color: #000080\">│</span>  Limited range of motion with extension with pain. Full range of motion with flexion with pain. Pain to         <span style=\"color: #000080; text-decoration-color: #000080\">│</span>\n",
       "<span style=\"color: #000080; text-decoration-color: #000080\">│</span>  palpation along the medial aspect. No pain to palpation on the lateral aspect of the elbow. Pain with          <span style=\"color: #000080; text-decoration-color: #000080\">│</span>\n",
       "<span style=\"color: #000080; text-decoration-color: #000080\">│</span>  supination. No pain with pronation. Examination of the left elbow: minimal pain with flexion and extension     <span style=\"color: #000080; text-decoration-color: #000080\">│</span>\n",
       "<span style=\"color: #000080; text-decoration-color: #000080\">│</span>  Slight Limited ROM on extension of the arm. Pain with supination. No pain with pronation.  RESULTS  X-ray      <span style=\"color: #000080; text-decoration-color: #000080\">│</span>\n",
       "<span style=\"color: #000080; text-decoration-color: #000080\">│</span>  images of the bilateral elbows were obtained and review in office today. These reveal no evidence of fracture  <span style=\"color: #000080; text-decoration-color: #000080\">│</span>\n",
       "<span style=\"color: #000080; text-decoration-color: #000080\">│</span>  or bony misalignment.  ASSESSMENT  Bilateral medial epicondylitis.  PLAN  After reviewing the patient's        <span style=\"color: #000080; text-decoration-color: #000080\">│</span>\n",
       "<span style=\"color: #000080; text-decoration-color: #000080\">│</span>  examination and radiographic findings today, we had a lengthy discussion in regards to his current symptoms.   <span style=\"color: #000080; text-decoration-color: #000080\">│</span>\n",
       "<span style=\"color: #000080; text-decoration-color: #000080\">│</span>  I want to get an MRI of the bilateral elbows for further evaluation. We discussed the possibility of           <span style=\"color: #000080; text-decoration-color: #000080\">│</span>\n",
       "<span style=\"color: #000080; text-decoration-color: #000080\">│</span>  performing a whole blood transfusion to encourage healing, and the patient is already familiar with this       <span style=\"color: #000080; text-decoration-color: #000080\">│</span>\n",
       "<span style=\"color: #000080; text-decoration-color: #000080\">│</span>  procedure.                                                                                                     <span style=\"color: #000080; text-decoration-color: #000080\">│</span>\n",
       "<span style=\"color: #000080; text-decoration-color: #000080\">│</span>                                                                                                                 <span style=\"color: #000080; text-decoration-color: #000080\">│</span>\n",
       "<span style=\"color: #000080; text-decoration-color: #000080\">╰─────────────────────────────────────────────────────────────────────────────────────────────────────────────────╯</span>\n",
       "</pre>\n"
      ],
      "text/plain": [
       "\u001b[34m╭─\u001b[0m\u001b[34m───────────────────────────────────────────────────\u001b[0m\u001b[1;36m  Input  \u001b[0m\u001b[34m───────────────────────────────────────────────────\u001b[0m\u001b[34m─╮\u001b[0m\n",
       "\u001b[34m│\u001b[0m                                                                                                                 \u001b[34m│\u001b[0m\n",
       "\u001b[34m│\u001b[0m  input: Dialogue:  hey dylan what's going on so i lift quite a bit of weights i try to stay in shape as much    \u001b[34m│\u001b[0m\n",
       "\u001b[34m│\u001b[0m  as i can i'm not like normal people i lift heavy weights and my elbow is extremely sore which elbow is it      \u001b[34m│\u001b[0m\n",
       "\u001b[34m│\u001b[0m  actually it's both my elbows but my right elbow is hurting me the most  okay and you said you lift a lot of    \u001b[34m│\u001b[0m\n",
       "\u001b[34m│\u001b[0m  weights  mm-hmm  did you play any sports when you were younger  no anything you can think of primarily it was  \u001b[34m│\u001b[0m\n",
       "\u001b[34m│\u001b[0m  basketball baseball and football  okay and did your elbows hurt at that time or is this a a new injury  it's   \u001b[34m│\u001b[0m\n",
       "\u001b[34m│\u001b[0m  new  when did it start  probably year and a half ago  okay on both elbows about a year and a half ago  yeah    \u001b[34m│\u001b[0m\n",
       "\u001b[34m│\u001b[0m  okay have you taken anything for the pain  ibuprofen eight hundred milligrams three times a day  okay and      \u001b[34m│\u001b[0m\n",
       "\u001b[34m│\u001b[0m  does anything make it better or worse  the more i use my hands or my arms the more it hurts  okay have you     \u001b[34m│\u001b[0m\n",
       "\u001b[34m│\u001b[0m  tried icing  yes  does that give you any relief  no  alright is it the inside or outside of your elbows        \u001b[34m│\u001b[0m\n",
       "\u001b[34m│\u001b[0m  inside  inside okay let's just do a quick physical exam here i'll take a look at your right elbow first        \u001b[34m│\u001b[0m\n",
       "\u001b[34m│\u001b[0m  mm-hmm  if i bend it this way up does it hurt it's your left does that hurt  yes  how about this  yes  okay    \u001b[34m│\u001b[0m\n",
       "\u001b[34m│\u001b[0m  so pain with both flexion and extension  mm-hmm  looks like you have little bit of limited range of motion on  \u001b[34m│\u001b[0m\n",
       "\u001b[34m│\u001b[0m  extension not on flexion though you said it hurts right here on the inside of your elbow  yes  okay so pain    \u001b[34m│\u001b[0m\n",
       "\u001b[34m│\u001b[0m  on the medial side with palpation  yes  alright how about the outside  no  no pain with palpation outside of   \u001b[34m│\u001b[0m\n",
       "\u001b[34m│\u001b[0m  the elbow you have do you have normal sensation in your fingers  i think so  yeah  yeah  okay great  good to   \u001b[34m│\u001b[0m\n",
       "\u001b[34m│\u001b[0m  go  sensation is normal to the touch  yes  pulses equal in all extremities how about the left elbow same       \u001b[34m│\u001b[0m\n",
       "\u001b[34m│\u001b[0m  thing if i bend it this way does that hurt  not as much  how about this way  not as much  alright so little    \u001b[34m│\u001b[0m\n",
       "\u001b[34m│\u001b[0m  bit of pain on flexion and extension little bit of limited range of motion on extension of the arm how about   \u001b[34m│\u001b[0m\n",
       "\u001b[34m│\u001b[0m  if you twist like you're opening a door  yes  okay so some pain with torsion and twisting supination what      \u001b[34m│\u001b[0m\n",
       "\u001b[34m│\u001b[0m  about pronation  no  no pain with pronation on the right side  mm-hmm  same thing on the left  yes  pain with  \u001b[34m│\u001b[0m\n",
       "\u001b[34m│\u001b[0m  supination no pain with pronation  correct  alright so dylan it took some x-rays coming in looks like you do   \u001b[34m│\u001b[0m\n",
       "\u001b[34m│\u001b[0m  n't have any any fractures or any bony misalignment which i expect with this kind of injury i do think that    \u001b[34m│\u001b[0m\n",
       "\u001b[34m│\u001b[0m  what you have is medial epicondylitis which is  is that golfer's elbow  yes same thing have you been golfing   \u001b[34m│\u001b[0m\n",
       "\u001b[34m│\u001b[0m  a lot  well not in the past year and a half i've had this for a long time  okay also known as pictures elbow   \u001b[34m│\u001b[0m\n",
       "\u001b[34m│\u001b[0m  well i have n't been pitching either  hmmm well in any case what i'm gon na have to do is i'm gon na send you  \u001b[34m│\u001b[0m\n",
       "\u001b[34m│\u001b[0m  up for mri to take another look at this  mm-hmm  that will be our next step so we'll get you scheduled for     \u001b[34m│\u001b[0m\n",
       "\u001b[34m│\u001b[0m  the mri probably get you in pretty quick here since we're a private practice  thank god  yeah and once you     \u001b[34m│\u001b[0m\n",
       "\u001b[34m│\u001b[0m  get the mri i'll know a little bit more what i'd like to do is something called a whole blood transfusion      \u001b[34m│\u001b[0m\n",
       "\u001b[34m│\u001b[0m  have you heard of that before  no please tell me remind me  yeah it should help with the healing of your       \u001b[34m│\u001b[0m\n",
       "\u001b[34m│\u001b[0m  elbow it's just a procedure we'll stick a needle in your elbow  you do a stick needle in my elbow  mm-hmm and  \u001b[34m│\u001b[0m\n",
       "\u001b[34m│\u001b[0m  help with some of the healing of your elbow  so it's kinda like dry needling then  no  not at all  what is it  \u001b[34m│\u001b[0m\n",
       "\u001b[34m│\u001b[0m  is it is that that thing where like you take the blood out of like say my my thigh  mm-hmm  and then you       \u001b[34m│\u001b[0m\n",
       "\u001b[34m│\u001b[0m  literally inject it into my tendon  yes  that it activates the healing  yeah that's exactly what it is         \u001b[34m│\u001b[0m\n",
       "\u001b[34m│\u001b[0m  interesting cool  yeah  maybe i have heard about that  we've we've had some really good responses from other   \u001b[34m│\u001b[0m\n",
       "\u001b[34m│\u001b[0m  patients on it so hopefully i mean that should be a good solution for you since you've been having issues      \u001b[34m│\u001b[0m\n",
       "\u001b[34m│\u001b[0m  with this  i'm excited  yeah and we can hopefully get you scheduled for that in the next couple of weeks it's  \u001b[34m│\u001b[0m\n",
       "\u001b[34m│\u001b[0m  not not a major procedure and you should heal in the next two weeks so that wo n't be a problem especially     \u001b[34m│\u001b[0m\n",
       "\u001b[34m│\u001b[0m  considering that you're expecting a newborn soon we want to make sure you're all healed for that  wow i did    \u001b[34m│\u001b[0m\n",
       "\u001b[34m│\u001b[0m  n't even say that  i read it in your chart  man you doctors are good  yeah anything else going on today  just  \u001b[34m│\u001b[0m\n",
       "\u001b[34m│\u001b[0m  trying to figure out how you're doing  very good thank you  you're welcome  nice to see you  you have a good   \u001b[34m│\u001b[0m\n",
       "\u001b[34m│\u001b[0m  day                                                                                                            \u001b[34m│\u001b[0m\n",
       "\u001b[34m│\u001b[0m                                                                                                                 \u001b[34m│\u001b[0m\n",
       "\u001b[34m│\u001b[0m  Medical Note: CHIEF COMPLAINT  Bilateral elbow pain, right worse than left.  HISTORY OF PRESENT ILLNESS        \u001b[34m│\u001b[0m\n",
       "\u001b[34m│\u001b[0m  Dylan Bennett is a pleasant 53-year-old male who presents to the clinic today for the evaluation of bilateral  \u001b[34m│\u001b[0m\n",
       "\u001b[34m│\u001b[0m  elbow pain, right worse than left.  The patient has been experiencing bilateral elbow pain, right worse than   \u001b[34m│\u001b[0m\n",
       "\u001b[34m│\u001b[0m  left, for approximately 1.5 years. His pain is localized to the medial aspect of his elbows and is described   \u001b[34m│\u001b[0m\n",
       "\u001b[34m│\u001b[0m  as being extremely sore, worse with increased use of his upper extremities. Of note, he utilizes heavy         \u001b[34m│\u001b[0m\n",
       "\u001b[34m│\u001b[0m  weights for strength training and was very active in sports when he was younger, primarily playing             \u001b[34m│\u001b[0m\n",
       "\u001b[34m│\u001b[0m  basketball, baseball, and football, but he denies having any pain at that time. Applying ice to the area has   \u001b[34m│\u001b[0m\n",
       "\u001b[34m│\u001b[0m  not been helpful, but he does use ibuprofen 800 mg 3 times daily.  SOCIAL HISTORY  The patient reports that    \u001b[34m│\u001b[0m\n",
       "\u001b[34m│\u001b[0m  utilizes heavy weights for strength training. He was also very active in sports when he was younger,           \u001b[34m│\u001b[0m\n",
       "\u001b[34m│\u001b[0m  primarily playing basketball, baseball, and football.  He is expecting a newborn baby in the near future.      \u001b[34m│\u001b[0m\n",
       "\u001b[34m│\u001b[0m  MEDICATIONS  The patient reports that he has been taking ibuprofen 800 mg 3 times daily.  REVIEW OF SYSTEMS    \u001b[34m│\u001b[0m\n",
       "\u001b[34m│\u001b[0m  Musculoskeletal: Reports bilateral elbow pain, right worse than left.  PHYSICAL EXAM  CV: Pulses are equal in  \u001b[34m│\u001b[0m\n",
       "\u001b[34m│\u001b[0m  all extremities. NEURO: Sensation is normal to light touch distally. MSK:  Examination of the right elbow:     \u001b[34m│\u001b[0m\n",
       "\u001b[34m│\u001b[0m  Limited range of motion with extension with pain. Full range of motion with flexion with pain. Pain to         \u001b[34m│\u001b[0m\n",
       "\u001b[34m│\u001b[0m  palpation along the medial aspect. No pain to palpation on the lateral aspect of the elbow. Pain with          \u001b[34m│\u001b[0m\n",
       "\u001b[34m│\u001b[0m  supination. No pain with pronation. Examination of the left elbow: minimal pain with flexion and extension     \u001b[34m│\u001b[0m\n",
       "\u001b[34m│\u001b[0m  Slight Limited ROM on extension of the arm. Pain with supination. No pain with pronation.  RESULTS  X-ray      \u001b[34m│\u001b[0m\n",
       "\u001b[34m│\u001b[0m  images of the bilateral elbows were obtained and review in office today. These reveal no evidence of fracture  \u001b[34m│\u001b[0m\n",
       "\u001b[34m│\u001b[0m  or bony misalignment.  ASSESSMENT  Bilateral medial epicondylitis.  PLAN  After reviewing the patient's        \u001b[34m│\u001b[0m\n",
       "\u001b[34m│\u001b[0m  examination and radiographic findings today, we had a lengthy discussion in regards to his current symptoms.   \u001b[34m│\u001b[0m\n",
       "\u001b[34m│\u001b[0m  I want to get an MRI of the bilateral elbows for further evaluation. We discussed the possibility of           \u001b[34m│\u001b[0m\n",
       "\u001b[34m│\u001b[0m  performing a whole blood transfusion to encourage healing, and the patient is already familiar with this       \u001b[34m│\u001b[0m\n",
       "\u001b[34m│\u001b[0m  procedure.                                                                                                     \u001b[34m│\u001b[0m\n",
       "\u001b[34m│\u001b[0m                                                                                                                 \u001b[34m│\u001b[0m\n",
       "\u001b[34m╰─────────────────────────────────────────────────────────────────────────────────────────────────────────────────╯\u001b[0m\n"
      ]
     },
     "metadata": {},
     "output_type": "display_data"
    },
    {
     "data": {
      "text/html": [
       "<pre style=\"white-space:pre;overflow-x:auto;line-height:normal;font-family:Menlo,'DejaVu Sans Mono',consolas,'Courier New',monospace\">\n",
       "</pre>\n"
      ],
      "text/plain": [
       "\n"
      ]
     },
     "metadata": {},
     "output_type": "display_data"
    }
   ],
   "source": [
    "print_dialogue_data(annotated_medical_data, indexes_to_show=[0])"
   ]
  },
  {
   "cell_type": "markdown",
   "metadata": {},
   "source": [
    "### In fact, let's just generate an example now:"
   ]
  },
  {
   "cell_type": "code",
   "execution_count": 12,
   "metadata": {},
   "outputs": [
    {
     "name": "stdout",
     "output_type": "stream",
     "text": [
      "🍩 https://wandb.ai/eval-course/eval_course_ch1_dev/r/call/0192e825-6ce3-75b3-a805-46921cfa36e0\n"
     ]
    },
    {
     "data": {
      "text/plain": [
       "'• **Chief complaint:** Bilateral elbow pain, right worse than left.\\n\\n• **History of present illness:** 1.5 years of bilateral elbow pain, worse on the right,  worsened by upper extremity use. Pain located on the medial aspect of both elbows.  Patient uses ibuprofen 800mg three times daily for pain relief; ice provides no relief.  History of athletic activity (basketball, baseball, football) without prior elbow pain.\\n\\n• **Physical examination:**  Pulses equal in all extremities. Normal distal sensation. Right elbow: limited range of motion in extension, pain with flexion and extension, pain with supination, medial aspect pain on palpation. Left elbow: minimal pain with flexion and extension, slight limited ROM on extension, pain with supination.\\n\\n• **Symptoms:**  Bilateral elbow pain (medial aspect), worse with use,  worse on the right.\\n\\n• **New medications:**  MRI ordered.  Whole blood transfusion discussed as a treatment option.\\n\\n• **Follow-up instructions:** MRI scheduled; whole blood transfusion to be scheduled in the next couple of weeks.  Expected healing within two weeks.\\n'"
      ]
     },
     "execution_count": 12,
     "metadata": {},
     "output_type": "execute_result"
    }
   ],
   "source": [
    "llm = LLMClient(model_name=MODEL, client_type=MODEL_CLIENT)\n",
    "llm.predict(user_prompt=medical_task.format(transcript=annotated_medical_data[0][0][\"input\"]), system_prompt=medical_system_prompt)\n",
    "\n"
   ]
  },
  {
   "cell_type": "markdown",
   "metadata": {},
   "source": [
    "## Data Collection and Curation for Evaluation\n",
    "\n",
    "### Best practices for medical extraction evaluation:\n",
    "1. Collect real medical transcripts and LLM outputs\n",
    "2. Include diverse medical conditions and conversation styles\n",
    "3. Balance routine vs complex medical cases\n",
    "4. Remove duplicate records\n",
    "5. Validate with medical experts\n",
    "\n",
    "These become our evaluation dataset"
   ]
  },
  {
   "cell_type": "code",
   "execution_count": 13,
   "metadata": {},
   "outputs": [
    {
     "data": {
      "text/html": [
       "<pre style=\"white-space:pre;overflow-x:auto;line-height:normal;font-family:Menlo,'DejaVu Sans Mono',consolas,'Courier New',monospace\"><span style=\"color: #000080; text-decoration-color: #000080\">╭───────────────────────────────────────────────────</span><span style=\"color: #008080; text-decoration-color: #008080; font-weight: bold\">  Output  </span><span style=\"color: #000080; text-decoration-color: #000080\">────────────────────────────────────────────────────╮</span>\n",
       "<span style=\"color: #000080; text-decoration-color: #000080\">│</span>                                                                                                                 <span style=\"color: #000080; text-decoration-color: #000080\">│</span>\n",
       "<span style=\"color: #000080; text-decoration-color: #000080\">│</span>  output: • Chief complaint:                                                                                     <span style=\"color: #000080; text-decoration-color: #000080\">│</span>\n",
       "<span style=\"color: #000080; text-decoration-color: #000080\">│</span>    - Bilateral elbow pain, right worse than left.                                                               <span style=\"color: #000080; text-decoration-color: #000080\">│</span>\n",
       "<span style=\"color: #000080; text-decoration-color: #000080\">│</span>                                                                                                                 <span style=\"color: #000080; text-decoration-color: #000080\">│</span>\n",
       "<span style=\"color: #000080; text-decoration-color: #000080\">│</span>  • History of present illness:                                                                                  <span style=\"color: #000080; text-decoration-color: #000080\">│</span>\n",
       "<span style=\"color: #000080; text-decoration-color: #000080\">│</span>    - The patient, a 53-year-old male, presents with bilateral elbow pain for about 1.5 years, worse on the      <span style=\"color: #000080; text-decoration-color: #000080\">│</span>\n",
       "<span style=\"color: #000080; text-decoration-color: #000080\">│</span>  right side. Pain is localized to the medial aspect, exacerbated by upper extremity use. Uses heavy weights     <span style=\"color: #000080; text-decoration-color: #000080\">│</span>\n",
       "<span style=\"color: #000080; text-decoration-color: #000080\">│</span>  for strength training and played basketball, baseball, and football without previous pain. Takes ibuprofen     <span style=\"color: #000080; text-decoration-color: #000080\">│</span>\n",
       "<span style=\"color: #000080; text-decoration-color: #000080\">│</span>  800 mg 3 times daily.                                                                                          <span style=\"color: #000080; text-decoration-color: #000080\">│</span>\n",
       "<span style=\"color: #000080; text-decoration-color: #000080\">│</span>                                                                                                                 <span style=\"color: #000080; text-decoration-color: #000080\">│</span>\n",
       "<span style=\"color: #000080; text-decoration-color: #000080\">│</span>  • Physical examination:                                                                                        <span style=\"color: #000080; text-decoration-color: #000080\">│</span>\n",
       "<span style=\"color: #000080; text-decoration-color: #000080\">│</span>    - Right elbow: Limited extension ROM with pain, full flexion ROM with pain, tenderness on medial aspect, no  <span style=\"color: #000080; text-decoration-color: #000080\">│</span>\n",
       "<span style=\"color: #000080; text-decoration-color: #000080\">│</span>  tenderness on lateral aspect, pain with supination but not with pronation.                                     <span style=\"color: #000080; text-decoration-color: #000080\">│</span>\n",
       "<span style=\"color: #000080; text-decoration-color: #000080\">│</span>    - Left elbow: Minimal pain on flexion and extension, slight limited extension ROM, pain with supination but  <span style=\"color: #000080; text-decoration-color: #000080\">│</span>\n",
       "<span style=\"color: #000080; text-decoration-color: #000080\">│</span>  not with pronation.                                                                                            <span style=\"color: #000080; text-decoration-color: #000080\">│</span>\n",
       "<span style=\"color: #000080; text-decoration-color: #000080\">│</span>                                                                                                                 <span style=\"color: #000080; text-decoration-color: #000080\">│</span>\n",
       "<span style=\"color: #000080; text-decoration-color: #000080\">│</span>  • Symptoms experienced by the patient:                                                                         <span style=\"color: #000080; text-decoration-color: #000080\">│</span>\n",
       "<span style=\"color: #000080; text-decoration-color: #000080\">│</span>    - Bilateral elbow pain, worse on the right side, pain on medial aspect.                                      <span style=\"color: #000080; text-decoration-color: #000080\">│</span>\n",
       "<span style=\"color: #000080; text-decoration-color: #000080\">│</span>                                                                                                                 <span style=\"color: #000080; text-decoration-color: #000080\">│</span>\n",
       "<span style=\"color: #000080; text-decoration-color: #000080\">│</span>  • New medications:                                                                                             <span style=\"color: #000080; text-decoration-color: #000080\">│</span>\n",
       "<span style=\"color: #000080; text-decoration-color: #000080\">│</span>    - N/A                                                                                                        <span style=\"color: #000080; text-decoration-color: #000080\">│</span>\n",
       "<span style=\"color: #000080; text-decoration-color: #000080\">│</span>                                                                                                                 <span style=\"color: #000080; text-decoration-color: #000080\">│</span>\n",
       "<span style=\"color: #000080; text-decoration-color: #000080\">│</span>  • Follow-up instructions:                                                                                      <span style=\"color: #000080; text-decoration-color: #000080\">│</span>\n",
       "<span style=\"color: #000080; text-decoration-color: #000080\">│</span>    - MRI scheduled for bilateral elbows. Discussion about a whole blood transfusion for healing.                <span style=\"color: #000080; text-decoration-color: #000080\">│</span>\n",
       "<span style=\"color: #000080; text-decoration-color: #000080\">│</span>                                                                                                                 <span style=\"color: #000080; text-decoration-color: #000080\">│</span>\n",
       "<span style=\"color: #000080; text-decoration-color: #000080\">╰─────────────────────────────────────────────────────────────────────────────────────────────────────────────────╯</span>\n",
       "</pre>\n"
      ],
      "text/plain": [
       "\u001b[34m╭─\u001b[0m\u001b[34m──────────────────────────────────────────────────\u001b[0m\u001b[1;36m  Output  \u001b[0m\u001b[34m───────────────────────────────────────────────────\u001b[0m\u001b[34m─╮\u001b[0m\n",
       "\u001b[34m│\u001b[0m                                                                                                                 \u001b[34m│\u001b[0m\n",
       "\u001b[34m│\u001b[0m  output: • Chief complaint:                                                                                     \u001b[34m│\u001b[0m\n",
       "\u001b[34m│\u001b[0m    - Bilateral elbow pain, right worse than left.                                                               \u001b[34m│\u001b[0m\n",
       "\u001b[34m│\u001b[0m                                                                                                                 \u001b[34m│\u001b[0m\n",
       "\u001b[34m│\u001b[0m  • History of present illness:                                                                                  \u001b[34m│\u001b[0m\n",
       "\u001b[34m│\u001b[0m    - The patient, a 53-year-old male, presents with bilateral elbow pain for about 1.5 years, worse on the      \u001b[34m│\u001b[0m\n",
       "\u001b[34m│\u001b[0m  right side. Pain is localized to the medial aspect, exacerbated by upper extremity use. Uses heavy weights     \u001b[34m│\u001b[0m\n",
       "\u001b[34m│\u001b[0m  for strength training and played basketball, baseball, and football without previous pain. Takes ibuprofen     \u001b[34m│\u001b[0m\n",
       "\u001b[34m│\u001b[0m  800 mg 3 times daily.                                                                                          \u001b[34m│\u001b[0m\n",
       "\u001b[34m│\u001b[0m                                                                                                                 \u001b[34m│\u001b[0m\n",
       "\u001b[34m│\u001b[0m  • Physical examination:                                                                                        \u001b[34m│\u001b[0m\n",
       "\u001b[34m│\u001b[0m    - Right elbow: Limited extension ROM with pain, full flexion ROM with pain, tenderness on medial aspect, no  \u001b[34m│\u001b[0m\n",
       "\u001b[34m│\u001b[0m  tenderness on lateral aspect, pain with supination but not with pronation.                                     \u001b[34m│\u001b[0m\n",
       "\u001b[34m│\u001b[0m    - Left elbow: Minimal pain on flexion and extension, slight limited extension ROM, pain with supination but  \u001b[34m│\u001b[0m\n",
       "\u001b[34m│\u001b[0m  not with pronation.                                                                                            \u001b[34m│\u001b[0m\n",
       "\u001b[34m│\u001b[0m                                                                                                                 \u001b[34m│\u001b[0m\n",
       "\u001b[34m│\u001b[0m  • Symptoms experienced by the patient:                                                                         \u001b[34m│\u001b[0m\n",
       "\u001b[34m│\u001b[0m    - Bilateral elbow pain, worse on the right side, pain on medial aspect.                                      \u001b[34m│\u001b[0m\n",
       "\u001b[34m│\u001b[0m                                                                                                                 \u001b[34m│\u001b[0m\n",
       "\u001b[34m│\u001b[0m  • New medications:                                                                                             \u001b[34m│\u001b[0m\n",
       "\u001b[34m│\u001b[0m    - N/A                                                                                                        \u001b[34m│\u001b[0m\n",
       "\u001b[34m│\u001b[0m                                                                                                                 \u001b[34m│\u001b[0m\n",
       "\u001b[34m│\u001b[0m  • Follow-up instructions:                                                                                      \u001b[34m│\u001b[0m\n",
       "\u001b[34m│\u001b[0m    - MRI scheduled for bilateral elbows. Discussion about a whole blood transfusion for healing.                \u001b[34m│\u001b[0m\n",
       "\u001b[34m│\u001b[0m                                                                                                                 \u001b[34m│\u001b[0m\n",
       "\u001b[34m╰─────────────────────────────────────────────────────────────────────────────────────────────────────────────────╯\u001b[0m\n"
      ]
     },
     "metadata": {},
     "output_type": "display_data"
    },
    {
     "data": {
      "text/html": [
       "<pre style=\"white-space:pre;overflow-x:auto;line-height:normal;font-family:Menlo,'DejaVu Sans Mono',consolas,'Courier New',monospace\">\n",
       "</pre>\n"
      ],
      "text/plain": [
       "\n"
      ]
     },
     "metadata": {},
     "output_type": "display_data"
    }
   ],
   "source": [
    "print_dialogue_data(annotated_medical_data, indexes_to_show=[1])\n"
   ]
  },
  {
   "cell_type": "markdown",
   "metadata": {},
   "source": [
    "## Why and How to Evaluate LLMs\n",
    "\n",
    "### Core Principles of LLM Evaluation\n",
    "Unlike traditional software testing, LLM evaluation requires special consideration:\n",
    "\n",
    "1. **Non-Deterministic Outputs**\n",
    "   - Models can give different valid answers\n",
    "   - Responses vary between runs\n",
    "   - Multiple correct solutions possible\n",
    "\n",
    "2. **Quality is Multi-Dimensional**\n",
    "   - Correctness isn't binary\n",
    "   - Context matters heavily\n",
    "   - Different stakeholders have different priorities\n",
    "\n",
    "3. **Scale vs Accuracy Trade-offs**\n",
    "   - Manual review is accurate but expensive\n",
    "   - Automated checks are scalable but limited\n",
    "   - Hybrid approaches often work best\n",
    "\n",
    "### Practical Evaluation Recipe 🧑‍🍳\n",
    "\n",
    "1. **Define Success Criteria**\n",
    "   - List must-have requirements\n",
    "   - Set acceptable thresholds\n",
    "   - Identify critical failures\n",
    "\n",
    "2. **Build Evaluation Suite**\n",
    "   - Automated checks for clear rules\n",
    "   - Expert review for nuanced cases\n",
    "   - Version control evaluation code\n",
    "\n",
    "3. **Create Scoring System**\n",
    "   - Weight different factors\n",
    "   - Establish baselines\n",
    "   - Plan for aggregation\n",
    "\n",
    "### Applying to Medical Data Extraction 🏥\n",
    "\n",
    "For our medical extraction task, this means:\n",
    "- **Success Criteria**: Required fields, privacy compliance, word limits\n",
    "- **Evaluation Suite**: Automated checks + medical expert review\n",
    "- **Scoring**: Weighted combination of format, accuracy, and safety metrics\n",
    "\n",
    "Let's see how to implement this..."
   ]
  },
  {
   "cell_type": "markdown",
   "metadata": {},
   "source": [
    "![](./media/traditional_llm_eval.png)"
   ]
  },
  {
   "cell_type": "markdown",
   "metadata": {},
   "source": [
    "## First: Annotation: Building Quality Training Data\n",
    "\n",
    "### Why Annotate?\n",
    "To evaluate LLMs effectively, we need expert-labeled data that:\n",
    "1. Defines what \"good\" looks like\n",
    "2. Shows us what to test for\n",
    "3. Helps align our automated tests with human judgment\n",
    "\n",
    "### The Process\n",
    "Experts review outputs and provide structured feedback. This creates a foundation for:\n",
    "- Building automated evaluation tests\n",
    "- Measuring how well those tests match expert judgment\n",
    "- Refining our evaluation methods until they align with expert standards\n",
    "\n",
    "Think of annotations as our compass - they help ensure our later automated evaluation methods point in the same direction as human experts while assessing the quality of our LLM's outputs."
   ]
  },
  {
   "cell_type": "markdown",
   "metadata": {},
   "source": [
    "![](./media/annotation_ui.png)"
   ]
  },
  {
   "cell_type": "code",
   "execution_count": 14,
   "metadata": {},
   "outputs": [
    {
     "data": {
      "text/html": [
       "<pre style=\"white-space:pre;overflow-x:auto;line-height:normal;font-family:Menlo,'DejaVu Sans Mono',consolas,'Courier New',monospace\"><span style=\"color: #000080; text-decoration-color: #000080\">╭─────────────────────────────────────────────────</span><span style=\"color: #008080; text-decoration-color: #008080; font-weight: bold\">  Annotation  </span><span style=\"color: #000080; text-decoration-color: #000080\">──────────────────────────────────────────────────╮</span>\n",
       "<span style=\"color: #000080; text-decoration-color: #000080\">│</span>                                                                                                                 <span style=\"color: #000080; text-decoration-color: #000080\">│</span>\n",
       "<span style=\"color: #000080; text-decoration-color: #000080\">│</span>  0                                                                                                              <span style=\"color: #000080; text-decoration-color: #000080\">│</span>\n",
       "<span style=\"color: #000080; text-decoration-color: #000080\">│</span>                                                                                                                 <span style=\"color: #000080; text-decoration-color: #000080\">│</span>\n",
       "<span style=\"color: #000080; text-decoration-color: #000080\">╰─────────────────────────────────────────────────────────────────────────────────────────────────────────────────╯</span>\n",
       "</pre>\n"
      ],
      "text/plain": [
       "\u001b[34m╭─\u001b[0m\u001b[34m────────────────────────────────────────────────\u001b[0m\u001b[1;36m  Annotation  \u001b[0m\u001b[34m─────────────────────────────────────────────────\u001b[0m\u001b[34m─╮\u001b[0m\n",
       "\u001b[34m│\u001b[0m                                                                                                                 \u001b[34m│\u001b[0m\n",
       "\u001b[34m│\u001b[0m  0                                                                                                              \u001b[34m│\u001b[0m\n",
       "\u001b[34m│\u001b[0m                                                                                                                 \u001b[34m│\u001b[0m\n",
       "\u001b[34m╰─────────────────────────────────────────────────────────────────────────────────────────────────────────────────╯\u001b[0m\n"
      ]
     },
     "metadata": {},
     "output_type": "display_data"
    },
    {
     "data": {
      "text/html": [
       "<pre style=\"white-space:pre;overflow-x:auto;line-height:normal;font-family:Menlo,'DejaVu Sans Mono',consolas,'Courier New',monospace\">\n",
       "</pre>\n"
      ],
      "text/plain": [
       "\n"
      ]
     },
     "metadata": {},
     "output_type": "display_data"
    },
    {
     "data": {
      "text/html": [
       "<pre style=\"white-space:pre;overflow-x:auto;line-height:normal;font-family:Menlo,'DejaVu Sans Mono',consolas,'Courier New',monospace\"><span style=\"color: #000080; text-decoration-color: #000080\">╭─────────────────────────────────────────────</span><span style=\"color: #008080; text-decoration-color: #008080; font-weight: bold\">  Criteria Annotation  </span><span style=\"color: #000080; text-decoration-color: #000080\">─────────────────────────────────────────────╮</span>\n",
       "<span style=\"color: #000080; text-decoration-color: #000080\">│</span>                                                                                                                 <span style=\"color: #000080; text-decoration-color: #000080\">│</span>\n",
       "<span style=\"color: #000080; text-decoration-color: #000080\">│</span>  word_count: 1                                                                                                  <span style=\"color: #000080; text-decoration-color: #000080\">│</span>\n",
       "<span style=\"color: #000080; text-decoration-color: #000080\">│</span>  presence_of_keys: 1                                                                                            <span style=\"color: #000080; text-decoration-color: #000080\">│</span>\n",
       "<span style=\"color: #000080; text-decoration-color: #000080\">│</span>  absence_of_PII: 0                                                                                              <span style=\"color: #000080; text-decoration-color: #000080\">│</span>\n",
       "<span style=\"color: #000080; text-decoration-color: #000080\">│</span>                                                                                                                 <span style=\"color: #000080; text-decoration-color: #000080\">│</span>\n",
       "<span style=\"color: #000080; text-decoration-color: #000080\">╰─────────────────────────────────────────────────────────────────────────────────────────────────────────────────╯</span>\n",
       "</pre>\n"
      ],
      "text/plain": [
       "\u001b[34m╭─\u001b[0m\u001b[34m────────────────────────────────────────────\u001b[0m\u001b[1;36m  Criteria Annotation  \u001b[0m\u001b[34m────────────────────────────────────────────\u001b[0m\u001b[34m─╮\u001b[0m\n",
       "\u001b[34m│\u001b[0m                                                                                                                 \u001b[34m│\u001b[0m\n",
       "\u001b[34m│\u001b[0m  word_count: 1                                                                                                  \u001b[34m│\u001b[0m\n",
       "\u001b[34m│\u001b[0m  presence_of_keys: 1                                                                                            \u001b[34m│\u001b[0m\n",
       "\u001b[34m│\u001b[0m  absence_of_PII: 0                                                                                              \u001b[34m│\u001b[0m\n",
       "\u001b[34m│\u001b[0m                                                                                                                 \u001b[34m│\u001b[0m\n",
       "\u001b[34m╰─────────────────────────────────────────────────────────────────────────────────────────────────────────────────╯\u001b[0m\n"
      ]
     },
     "metadata": {},
     "output_type": "display_data"
    },
    {
     "data": {
      "text/html": [
       "<pre style=\"white-space:pre;overflow-x:auto;line-height:normal;font-family:Menlo,'DejaVu Sans Mono',consolas,'Courier New',monospace\">\n",
       "</pre>\n"
      ],
      "text/plain": [
       "\n"
      ]
     },
     "metadata": {},
     "output_type": "display_data"
    },
    {
     "data": {
      "text/html": [
       "<pre style=\"white-space:pre;overflow-x:auto;line-height:normal;font-family:Menlo,'DejaVu Sans Mono',consolas,'Courier New',monospace\"><span style=\"color: #000080; text-decoration-color: #000080\">╭────────────────────────────────────────────────────</span><span style=\"color: #008080; text-decoration-color: #008080; font-weight: bold\">  Note  </span><span style=\"color: #000080; text-decoration-color: #000080\">─────────────────────────────────────────────────────╮</span>\n",
       "<span style=\"color: #000080; text-decoration-color: #000080\">│</span>                                                                                                                 <span style=\"color: #000080; text-decoration-color: #000080\">│</span>\n",
       "<span style=\"color: #000080; text-decoration-color: #000080\">│</span>  The extraction fails on privacy criteria as it includes the patient's age, which is considered personal        <span style=\"color: #000080; text-decoration-color: #000080\">│</span>\n",
       "<span style=\"color: #000080; text-decoration-color: #000080\">│</span>  identifiable information (PII). While the format, completeness, conciseness, and use of 'N/A' are all          <span style=\"color: #000080; text-decoration-color: #000080\">│</span>\n",
       "<span style=\"color: #000080; text-decoration-color: #000080\">│</span>  satisfactory, the presence of this PII results in a failure to meet all criteria.                              <span style=\"color: #000080; text-decoration-color: #000080\">│</span>\n",
       "<span style=\"color: #000080; text-decoration-color: #000080\">│</span>                                                                                                                 <span style=\"color: #000080; text-decoration-color: #000080\">│</span>\n",
       "<span style=\"color: #000080; text-decoration-color: #000080\">╰─────────────────────────────────────────────────────────────────────────────────────────────────────────────────╯</span>\n",
       "</pre>\n"
      ],
      "text/plain": [
       "\u001b[34m╭─\u001b[0m\u001b[34m───────────────────────────────────────────────────\u001b[0m\u001b[1;36m  Note  \u001b[0m\u001b[34m────────────────────────────────────────────────────\u001b[0m\u001b[34m─╮\u001b[0m\n",
       "\u001b[34m│\u001b[0m                                                                                                                 \u001b[34m│\u001b[0m\n",
       "\u001b[34m│\u001b[0m  The extraction fails on privacy criteria as it includes the patient's age, which is considered personal        \u001b[34m│\u001b[0m\n",
       "\u001b[34m│\u001b[0m  identifiable information (PII). While the format, completeness, conciseness, and use of 'N/A' are all          \u001b[34m│\u001b[0m\n",
       "\u001b[34m│\u001b[0m  satisfactory, the presence of this PII results in a failure to meet all criteria.                              \u001b[34m│\u001b[0m\n",
       "\u001b[34m│\u001b[0m                                                                                                                 \u001b[34m│\u001b[0m\n",
       "\u001b[34m╰─────────────────────────────────────────────────────────────────────────────────────────────────────────────────╯\u001b[0m\n"
      ]
     },
     "metadata": {},
     "output_type": "display_data"
    },
    {
     "data": {
      "text/html": [
       "<pre style=\"white-space:pre;overflow-x:auto;line-height:normal;font-family:Menlo,'DejaVu Sans Mono',consolas,'Courier New',monospace\">\n",
       "</pre>\n"
      ],
      "text/plain": [
       "\n"
      ]
     },
     "metadata": {},
     "output_type": "display_data"
    }
   ],
   "source": [
    "print_dialogue_data(annotated_medical_data, indexes_to_show=[2, 3, 4])"
   ]
  },
  {
   "cell_type": "markdown",
   "metadata": {},
   "source": [
    "## Evaluation: Measuring Performance\n",
    "\n",
    "### Understanding LLM Evaluation\n",
    "Unlike traditional software testing, LLM evaluation requires multiple approaches:\n",
    "\n",
    "1. **Automated Checks**\n",
    "   - Fast, programmatic tests\n",
    "   - Clear pass/fail criteria\n",
    "   - Example: format rules, required fields\n",
    "\n",
    "2. **Model-Assisted Evaluation**\n",
    "   - Using LLMs to evaluate outputs\n",
    "   - Helpful for subjective criteria\n",
    "   - Example: checking medical accuracy, privacy compliance\n",
    "\n",
    "3. **Expert Review**\n",
    "   - Human validation of complex cases\n",
    "   - Ground truth for training evaluators\n",
    "   - Example: annotated datasets\n",
    "\n",
    "### Building Evaluation Systems\n",
    "\n",
    "In this notebook, we'll implement this through:\n",
    "\n",
    "1. **Basic Tests**\n",
    "   ```python\n",
    "   test_adheres_to_required_keys()\n",
    "   test_adheres_to_word_limit()\n",
    "   ```\n",
    "\n",
    "2. **LLM Judges**\n",
    "   ```python\n",
    "   judge_adheres_to_privacy_guidelines()\n",
    "   judge_overall_score()\n",
    "   ```\n",
    "\n",
    "3. **Key Questions**\n",
    "   - How closely do automated evaluations match human judgment?\n",
    "   - When do automated systems diverge from human experts?\n",
    "   - What makes a good evaluation system?\n",
    "\n",
    "These questions lead us to the concept of alignment - measuring how well our automated systems match human expectations and values. We'll explore practical ways to measure and improve this alignment after implementing our evaluation system."
   ]
  },
  {
   "cell_type": "markdown",
   "metadata": {},
   "source": [
    "![](./media/eval_task_flowchart.png)"
   ]
  },
  {
   "cell_type": "markdown",
   "metadata": {},
   "source": [
    "### Using Domain Knowledge to Build Evaluation Tests\n",
    "\n",
    "We'll create four key tests to evaluate our medical extraction outputs:\n",
    "\n",
    "1. **Required Fields Check**\n",
    "   - Verifies presence of essential medical fields\n",
    "   - E.g., \"Chief complaint\", \"Symptoms\", \"Follow-up instructions\"\n",
    "\n",
    "2. **Word Limit Check**\n",
    "   - Ensures output stays within 150-word limit\n",
    "   - Promotes concise, focused summaries\n",
    "\n",
    "3. **Privacy Guidelines Check**\n",
    "   - Uses LLM to detect any PII leakage\n",
    "   - Critical for medical data compliance\n",
    "\n",
    "4. **Overall Quality Score**\n",
    "   - LLM-based assessment of extraction quality\n",
    "   - Considers accuracy, completeness, and format\n",
    "\n",
    "These tests will be validated against our expert-annotated dataset to ensure they align with human judgment. This alignment process helps us understand how well our automated evaluation matches medical expert standards.\n",
    "\n",
    "Let's implement each test:"
   ]
  },
  {
   "cell_type": "code",
   "execution_count": 15,
   "metadata": {},
   "outputs": [],
   "source": [
    "test_output = annotated_medical_data[0][1][\"output\"]"
   ]
  },
  {
   "cell_type": "code",
   "execution_count": 17,
   "metadata": {},
   "outputs": [],
   "source": [
    "@weave.op()\n",
    "def test_adheres_to_required_keys(model_output: str):\n",
    "    # Required medical keys\n",
    "    required_keys = [\n",
    "        \"Chief complaint\",\n",
    "        \"History of present illness\",\n",
    "        \"Physical examination\",\n",
    "        \"Symptoms\",\n",
    "        \"New medications with dosages\",\n",
    "        \"Follow-up instructions\"\n",
    "    ]\n",
    "    \n",
    "    # Convert to lowercase for case-insensitive matching\n",
    "    model_output_lower = model_output.lower()\n",
    "    \n",
    "    # Check if all required keys are present\n",
    "    for key in required_keys:\n",
    "        if key.lower() not in model_output_lower:\n",
    "            return int(False)\n",
    "            \n",
    "    return int(True)"
   ]
  },
  {
   "cell_type": "code",
   "execution_count": 18,
   "metadata": {},
   "outputs": [
    {
     "name": "stdout",
     "output_type": "stream",
     "text": [
      "🍩 https://wandb.ai/eval-course/eval_course_ch1_dev/r/call/0192e825-7c9b-7ef3-954c-6064a1c0c7fb\n"
     ]
    },
    {
     "data": {
      "text/plain": [
       "0"
      ]
     },
     "execution_count": 18,
     "metadata": {},
     "output_type": "execute_result"
    }
   ],
   "source": [
    "test_adheres_to_required_keys(test_output)"
   ]
  },
  {
   "cell_type": "code",
   "execution_count": 19,
   "metadata": {},
   "outputs": [],
   "source": [
    "@weave.op()\n",
    "def test_adheres_to_word_limit(model_output: str):\n",
    "    return int(len(model_output.split()) <= 150)"
   ]
  },
  {
   "cell_type": "code",
   "execution_count": 20,
   "metadata": {},
   "outputs": [
    {
     "name": "stdout",
     "output_type": "stream",
     "text": [
      "🍩 https://wandb.ai/eval-course/eval_course_ch1_dev/r/call/0192e825-7ca5-74b1-99ba-1c85856f04ae\n"
     ]
    },
    {
     "data": {
      "text/plain": [
       "0"
      ]
     },
     "execution_count": 20,
     "metadata": {},
     "output_type": "execute_result"
    }
   ],
   "source": [
    "test_adheres_to_word_limit(test_output)"
   ]
  },
  {
   "cell_type": "code",
   "execution_count": 21,
   "metadata": {},
   "outputs": [
    {
     "data": {
      "text/html": [
       "<pre style=\"white-space:pre;overflow-x:auto;line-height:normal;font-family:Menlo,'DejaVu Sans Mono',consolas,'Courier New',monospace\">You are a privacy compliance auditor specialized in medical records. Your task is to evaluate if any Personal      \n",
       "Identifiable Information (PII) is present in the text.                                                             \n",
       "</pre>\n"
      ],
      "text/plain": [
       "You are a privacy compliance auditor specialized in medical records. Your task is to evaluate if any Personal      \n",
       "Identifiable Information (PII) is present in the text.                                                             \n"
      ]
     },
     "metadata": {},
     "output_type": "display_data"
    },
    {
     "data": {
      "text/html": [
       "<pre style=\"white-space:pre;overflow-x:auto;line-height:normal;font-family:Menlo,'DejaVu Sans Mono',consolas,'Courier New',monospace\">Check for the following PII elements:                                                                              \n",
       "\n",
       "• Names (patient, doctor, family members)                                                                          \n",
       "\n",
       "• Dates of birth                                                                                                   \n",
       "\n",
       "• Ages (if specific)                                                                                               \n",
       "\n",
       "• Addresses                                                                                                        \n",
       "\n",
       "• Phone numbers                                                                                                    \n",
       "\n",
       "• Email addresses                                                                                                  \n",
       "\n",
       "• Social Security numbers                                                                                          \n",
       "\n",
       "• Medical record numbers                                                                                           \n",
       "\n",
       "• Insurance information                                                                                            \n",
       "\n",
       "• Specific dates of visits/procedures                                                                              \n",
       "\n",
       "• Unique identifying characteristics                                                                               \n",
       "\n",
       "• Geographic identifiers smaller than a state                                                                      \n",
       "\n",
       "Return only two fields matching the following structure:                                                           \n",
       "\n",
       "<span style=\"background-color: #272822\">                                                                                                                   </span>\n",
       "<span style=\"background-color: #272822\"> </span><span style=\"color: #f8f8f2; text-decoration-color: #f8f8f2; background-color: #272822\">{{</span><span style=\"background-color: #272822\">                                                                                                                </span>\n",
       "<span style=\"background-color: #272822\"> </span><span style=\"color: #f8f8f2; text-decoration-color: #f8f8f2; background-color: #272822\">    </span><span style=\"color: #ff4689; text-decoration-color: #ff4689; background-color: #272822\">\"contains_pii\"</span><span style=\"color: #f8f8f2; text-decoration-color: #f8f8f2; background-color: #272822\">: </span><span style=\"color: #ed007e; text-decoration-color: #ed007e; background-color: #1e0010\">True/False</span><span style=\"color: #f8f8f2; text-decoration-color: #f8f8f2; background-color: #272822\">,</span><span style=\"background-color: #272822\">                                                                                   </span>\n",
       "<span style=\"background-color: #272822\"> </span><span style=\"color: #f8f8f2; text-decoration-color: #f8f8f2; background-color: #272822\">    </span><span style=\"color: #ff4689; text-decoration-color: #ff4689; background-color: #272822\">\"reason\"</span><span style=\"color: #f8f8f2; text-decoration-color: #f8f8f2; background-color: #272822\">: </span><span style=\"color: #e6db74; text-decoration-color: #e6db74; background-color: #272822\">\"Brief explanation of why PII was found or confirmation of privacy compliance\"</span><span style=\"background-color: #272822\">                      </span>\n",
       "<span style=\"background-color: #272822\"> </span><span style=\"color: #f8f8f2; text-decoration-color: #f8f8f2; background-color: #272822\">}}</span><span style=\"background-color: #272822\">                                                                                                                </span>\n",
       "<span style=\"background-color: #272822\">                                                                                                                   </span>\n",
       "\n",
       "Analyze this text for PII: {text}                                                                                  \n",
       "</pre>\n"
      ],
      "text/plain": [
       "Check for the following PII elements:                                                                              \n",
       "\n",
       "• Names (patient, doctor, family members)                                                                          \n",
       "\n",
       "• Dates of birth                                                                                                   \n",
       "\n",
       "• Ages (if specific)                                                                                               \n",
       "\n",
       "• Addresses                                                                                                        \n",
       "\n",
       "• Phone numbers                                                                                                    \n",
       "\n",
       "• Email addresses                                                                                                  \n",
       "\n",
       "• Social Security numbers                                                                                          \n",
       "\n",
       "• Medical record numbers                                                                                           \n",
       "\n",
       "• Insurance information                                                                                            \n",
       "\n",
       "• Specific dates of visits/procedures                                                                              \n",
       "\n",
       "• Unique identifying characteristics                                                                               \n",
       "\n",
       "• Geographic identifiers smaller than a state                                                                      \n",
       "\n",
       "Return only two fields matching the following structure:                                                           \n",
       "\n",
       "\u001b[48;2;39;40;34m                                                                                                                   \u001b[0m\n",
       "\u001b[48;2;39;40;34m \u001b[0m\u001b[38;2;248;248;242;48;2;39;40;34m{{\u001b[0m\u001b[48;2;39;40;34m                                                                                                               \u001b[0m\u001b[48;2;39;40;34m \u001b[0m\n",
       "\u001b[48;2;39;40;34m \u001b[0m\u001b[38;2;248;248;242;48;2;39;40;34m    \u001b[0m\u001b[38;2;255;70;137;48;2;39;40;34m\"contains_pii\"\u001b[0m\u001b[38;2;248;248;242;48;2;39;40;34m:\u001b[0m\u001b[38;2;248;248;242;48;2;39;40;34m \u001b[0m\u001b[38;2;237;0;126;48;2;30;0;16mT\u001b[0m\u001b[38;2;237;0;126;48;2;30;0;16mr\u001b[0m\u001b[38;2;237;0;126;48;2;30;0;16mu\u001b[0m\u001b[38;2;237;0;126;48;2;30;0;16me\u001b[0m\u001b[38;2;237;0;126;48;2;30;0;16m/\u001b[0m\u001b[38;2;237;0;126;48;2;30;0;16mF\u001b[0m\u001b[38;2;237;0;126;48;2;30;0;16ma\u001b[0m\u001b[38;2;237;0;126;48;2;30;0;16ml\u001b[0m\u001b[38;2;237;0;126;48;2;30;0;16ms\u001b[0m\u001b[38;2;237;0;126;48;2;30;0;16me\u001b[0m\u001b[38;2;248;248;242;48;2;39;40;34m,\u001b[0m\u001b[48;2;39;40;34m                                                                                  \u001b[0m\u001b[48;2;39;40;34m \u001b[0m\n",
       "\u001b[48;2;39;40;34m \u001b[0m\u001b[38;2;248;248;242;48;2;39;40;34m    \u001b[0m\u001b[38;2;255;70;137;48;2;39;40;34m\"reason\"\u001b[0m\u001b[38;2;248;248;242;48;2;39;40;34m:\u001b[0m\u001b[38;2;248;248;242;48;2;39;40;34m \u001b[0m\u001b[38;2;230;219;116;48;2;39;40;34m\"Brief explanation of why PII was found or confirmation of privacy compliance\"\u001b[0m\u001b[48;2;39;40;34m                     \u001b[0m\u001b[48;2;39;40;34m \u001b[0m\n",
       "\u001b[48;2;39;40;34m \u001b[0m\u001b[38;2;248;248;242;48;2;39;40;34m}}\u001b[0m\u001b[48;2;39;40;34m                                                                                                               \u001b[0m\u001b[48;2;39;40;34m \u001b[0m\n",
       "\u001b[48;2;39;40;34m                                                                                                                   \u001b[0m\n",
       "\n",
       "Analyze this text for PII: {text}                                                                                  \n"
      ]
     },
     "metadata": {},
     "output_type": "display_data"
    }
   ],
   "source": [
    "display_prompt(medical_privacy_system_prompt)\n",
    "display_prompt(medical_privacy_judge_prompt)"
   ]
  },
  {
   "cell_type": "code",
   "execution_count": 22,
   "metadata": {},
   "outputs": [],
   "source": [
    "@weave.op()\n",
    "def judge_adheres_to_privacy_guidelines(model_output: str):\n",
    "    llm = LLMClient(model_name=MODEL, client_type=MODEL_CLIENT)\n",
    "    response = llm.predict(user_prompt=medical_privacy_judge_prompt.format(text=model_output), system_prompt=medical_privacy_system_prompt, schema=MedicalPrivacyJudgement)\n",
    "    try:\n",
    "        result = json.loads(response.text.strip(\"\\n\"))\n",
    "        return int(not result[0][\"contains_pii\"])\n",
    "    except:\n",
    "        return int(True) #TODO: Add json parsing as failure reason"
   ]
  },
  {
   "cell_type": "code",
   "execution_count": 23,
   "metadata": {},
   "outputs": [
    {
     "name": "stdout",
     "output_type": "stream",
     "text": [
      "🍩 https://wandb.ai/eval-course/eval_course_ch1_dev/r/call/0192e825-7cb8-7101-872f-8235c449b437\n"
     ]
    },
    {
     "data": {
      "text/plain": [
       "0"
      ]
     },
     "execution_count": 23,
     "metadata": {},
     "output_type": "execute_result"
    }
   ],
   "source": [
    "judge_adheres_to_privacy_guidelines(test_output)"
   ]
  },
  {
   "cell_type": "code",
   "execution_count": 24,
   "metadata": {},
   "outputs": [
    {
     "data": {
      "text/html": [
       "<pre style=\"white-space:pre;overflow-x:auto;line-height:normal;font-family:Menlo,'DejaVu Sans Mono',consolas,'Courier New',monospace\">You are a medical documentation quality assessor specialized in evaluating information extraction from medical     \n",
       "records. Your task is to provide a single comprehensive score that is either 0 or 1 for the extracted information. \n",
       "</pre>\n"
      ],
      "text/plain": [
       "You are a medical documentation quality assessor specialized in evaluating information extraction from medical     \n",
       "records. Your task is to provide a single comprehensive score that is either 0 or 1 for the extracted information. \n"
      ]
     },
     "metadata": {},
     "output_type": "display_data"
    },
    {
     "data": {
      "text/html": [
       "<pre style=\"white-space:pre;overflow-x:auto;line-height:normal;font-family:Menlo,'DejaVu Sans Mono',consolas,'Courier New',monospace\">Scoring Criteria:                                                                                                  \n",
       "\n",
       "<span style=\"color: #808000; text-decoration-color: #808000; font-weight: bold\"> 1 </span>Required Fields (Critical)                                                                                      \n",
       "<span style=\"color: #808000; text-decoration-color: #808000; font-weight: bold\">   </span>• All specified fields are present (chief complaint, history, examination, symptoms, medications, follow-up)    \n",
       "<span style=\"color: #808000; text-decoration-color: #808000; font-weight: bold\">   </span>• Information is relevant and properly categorized                                                              \n",
       "<span style=\"color: #808000; text-decoration-color: #808000; font-weight: bold\">   </span>• N/A is used appropriately for missing information                                                             \n",
       "<span style=\"color: #808000; text-decoration-color: #808000; font-weight: bold\"> 2 </span>Accuracy &amp; Clarity                                                                                              \n",
       "<span style=\"color: #808000; text-decoration-color: #808000; font-weight: bold\">   </span>• Information accurately reflects the source material                                                           \n",
       "<span style=\"color: #808000; text-decoration-color: #808000; font-weight: bold\">   </span>• Medical terminology is used correctly                                                                         \n",
       "<span style=\"color: #808000; text-decoration-color: #808000; font-weight: bold\">   </span>• Summaries are clear and unambiguous                                                                           \n",
       "<span style=\"color: #808000; text-decoration-color: #808000; font-weight: bold\">   </span>• Key medical details are preserved                                                                             \n",
       "<span style=\"color: #808000; text-decoration-color: #808000; font-weight: bold\"> 3 </span>Privacy &amp; Formatting                                                                                            \n",
       "<span style=\"color: #808000; text-decoration-color: #808000; font-weight: bold\">   </span>• No personal identifiable information (PII) is included                                                        \n",
       "<span style=\"color: #808000; text-decoration-color: #808000; font-weight: bold\">   </span>• \"The patient\" is used instead of names                                                                        \n",
       "<span style=\"color: #808000; text-decoration-color: #808000; font-weight: bold\">   </span>• Bullet point format is followed correctly                                                                     \n",
       "<span style=\"color: #808000; text-decoration-color: #808000; font-weight: bold\">   </span>• Response length is appropriate (~150 words)                                                                   \n",
       "<span style=\"color: #808000; text-decoration-color: #808000; font-weight: bold\">   </span>• Information is well-organized and readable                                                                    \n",
       "\n",
       "Return only two fields matching the following structure where the score MUST be either 0 or 1:                     \n",
       "\n",
       "<span style=\"background-color: #272822\">                                                                                                                   </span>\n",
       "<span style=\"background-color: #272822\"> </span><span style=\"color: #f8f8f2; text-decoration-color: #f8f8f2; background-color: #272822\">{{</span><span style=\"background-color: #272822\">                                                                                                                </span>\n",
       "<span style=\"background-color: #272822\"> </span><span style=\"color: #f8f8f2; text-decoration-color: #f8f8f2; background-color: #272822\">    </span><span style=\"color: #ff4689; text-decoration-color: #ff4689; background-color: #272822\">\"score\"</span><span style=\"color: #f8f8f2; text-decoration-color: #f8f8f2; background-color: #272822\">: </span><span style=\"color: #ed007e; text-decoration-color: #ed007e; background-color: #1e0010\">i</span><span style=\"color: #66d9ef; text-decoration-color: #66d9ef; background-color: #272822\">nt</span><span style=\"color: #f8f8f2; text-decoration-color: #f8f8f2; background-color: #272822\">,  </span><span style=\"color: #ed007e; text-decoration-color: #ed007e; background-color: #1e0010\">#</span><span style=\"color: #f8f8f2; text-decoration-color: #f8f8f2; background-color: #272822\"> </span><span style=\"color: #ed007e; text-decoration-color: #ed007e; background-color: #1e0010\">Score</span><span style=\"color: #f8f8f2; text-decoration-color: #f8f8f2; background-color: #272822\"> </span><span style=\"color: #66d9ef; text-decoration-color: #66d9ef; background-color: #272822\">t</span><span style=\"color: #ed007e; text-decoration-color: #ed007e; background-color: #1e0010\">ha</span><span style=\"color: #66d9ef; text-decoration-color: #66d9ef; background-color: #272822\">t</span><span style=\"color: #f8f8f2; text-decoration-color: #f8f8f2; background-color: #272822\"> </span><span style=\"color: #ed007e; text-decoration-color: #ed007e; background-color: #1e0010\">is</span><span style=\"color: #f8f8f2; text-decoration-color: #f8f8f2; background-color: #272822\"> </span><span style=\"color: #ed007e; text-decoration-color: #ed007e; background-color: #1e0010\">ei</span><span style=\"color: #66d9ef; text-decoration-color: #66d9ef; background-color: #272822\">t</span><span style=\"color: #ed007e; text-decoration-color: #ed007e; background-color: #1e0010\">her</span><span style=\"color: #f8f8f2; text-decoration-color: #f8f8f2; background-color: #272822\"> </span><span style=\"color: #ae81ff; text-decoration-color: #ae81ff; background-color: #272822\">0</span><span style=\"color: #f8f8f2; text-decoration-color: #f8f8f2; background-color: #272822\"> </span><span style=\"color: #ed007e; text-decoration-color: #ed007e; background-color: #1e0010\">or</span><span style=\"color: #f8f8f2; text-decoration-color: #f8f8f2; background-color: #272822\"> </span><span style=\"color: #ae81ff; text-decoration-color: #ae81ff; background-color: #272822\">1</span><span style=\"background-color: #272822\">                                                                  </span>\n",
       "<span style=\"background-color: #272822\"> </span><span style=\"color: #f8f8f2; text-decoration-color: #f8f8f2; background-color: #272822\">    </span><span style=\"color: #ff4689; text-decoration-color: #ff4689; background-color: #272822\">\"reason\"</span><span style=\"color: #f8f8f2; text-decoration-color: #f8f8f2; background-color: #272822\">: </span><span style=\"color: #e6db74; text-decoration-color: #e6db74; background-color: #272822\">\"Detailed explanation of why this score was given, referencing specific strengths and weaknesses\"</span><span style=\"background-color: #272822\">   </span>\n",
       "<span style=\"background-color: #272822\"> </span><span style=\"color: #f8f8f2; text-decoration-color: #f8f8f2; background-color: #272822\">}}</span><span style=\"background-color: #272822\">                                                                                                                </span>\n",
       "<span style=\"background-color: #272822\">                                                                                                                   </span>\n",
       "\n",
       "Evaluate this extraction: {text}                                                                                   \n",
       "</pre>\n"
      ],
      "text/plain": [
       "Scoring Criteria:                                                                                                  \n",
       "\n",
       "\u001b[1;33m 1 \u001b[0mRequired Fields (Critical)                                                                                      \n",
       "\u001b[1;33m   \u001b[0m• All specified fields are present (chief complaint, history, examination, symptoms, medications, follow-up)    \n",
       "\u001b[1;33m   \u001b[0m• Information is relevant and properly categorized                                                              \n",
       "\u001b[1;33m   \u001b[0m• N/A is used appropriately for missing information                                                             \n",
       "\u001b[1;33m 2 \u001b[0mAccuracy & Clarity                                                                                              \n",
       "\u001b[1;33m   \u001b[0m• Information accurately reflects the source material                                                           \n",
       "\u001b[1;33m   \u001b[0m• Medical terminology is used correctly                                                                         \n",
       "\u001b[1;33m   \u001b[0m• Summaries are clear and unambiguous                                                                           \n",
       "\u001b[1;33m   \u001b[0m• Key medical details are preserved                                                                             \n",
       "\u001b[1;33m 3 \u001b[0mPrivacy & Formatting                                                                                            \n",
       "\u001b[1;33m   \u001b[0m• No personal identifiable information (PII) is included                                                        \n",
       "\u001b[1;33m   \u001b[0m• \"The patient\" is used instead of names                                                                        \n",
       "\u001b[1;33m   \u001b[0m• Bullet point format is followed correctly                                                                     \n",
       "\u001b[1;33m   \u001b[0m• Response length is appropriate (~150 words)                                                                   \n",
       "\u001b[1;33m   \u001b[0m• Information is well-organized and readable                                                                    \n",
       "\n",
       "Return only two fields matching the following structure where the score MUST be either 0 or 1:                     \n",
       "\n",
       "\u001b[48;2;39;40;34m                                                                                                                   \u001b[0m\n",
       "\u001b[48;2;39;40;34m \u001b[0m\u001b[38;2;248;248;242;48;2;39;40;34m{{\u001b[0m\u001b[48;2;39;40;34m                                                                                                               \u001b[0m\u001b[48;2;39;40;34m \u001b[0m\n",
       "\u001b[48;2;39;40;34m \u001b[0m\u001b[38;2;248;248;242;48;2;39;40;34m    \u001b[0m\u001b[38;2;255;70;137;48;2;39;40;34m\"score\"\u001b[0m\u001b[38;2;248;248;242;48;2;39;40;34m:\u001b[0m\u001b[38;2;248;248;242;48;2;39;40;34m \u001b[0m\u001b[38;2;237;0;126;48;2;30;0;16mi\u001b[0m\u001b[38;2;102;217;239;48;2;39;40;34mnt\u001b[0m\u001b[38;2;248;248;242;48;2;39;40;34m,\u001b[0m\u001b[38;2;248;248;242;48;2;39;40;34m  \u001b[0m\u001b[38;2;237;0;126;48;2;30;0;16m#\u001b[0m\u001b[38;2;248;248;242;48;2;39;40;34m \u001b[0m\u001b[38;2;237;0;126;48;2;30;0;16mS\u001b[0m\u001b[38;2;237;0;126;48;2;30;0;16mc\u001b[0m\u001b[38;2;237;0;126;48;2;30;0;16mo\u001b[0m\u001b[38;2;237;0;126;48;2;30;0;16mr\u001b[0m\u001b[38;2;237;0;126;48;2;30;0;16me\u001b[0m\u001b[38;2;248;248;242;48;2;39;40;34m \u001b[0m\u001b[38;2;102;217;239;48;2;39;40;34mt\u001b[0m\u001b[38;2;237;0;126;48;2;30;0;16mh\u001b[0m\u001b[38;2;237;0;126;48;2;30;0;16ma\u001b[0m\u001b[38;2;102;217;239;48;2;39;40;34mt\u001b[0m\u001b[38;2;248;248;242;48;2;39;40;34m \u001b[0m\u001b[38;2;237;0;126;48;2;30;0;16mi\u001b[0m\u001b[38;2;237;0;126;48;2;30;0;16ms\u001b[0m\u001b[38;2;248;248;242;48;2;39;40;34m \u001b[0m\u001b[38;2;237;0;126;48;2;30;0;16me\u001b[0m\u001b[38;2;237;0;126;48;2;30;0;16mi\u001b[0m\u001b[38;2;102;217;239;48;2;39;40;34mt\u001b[0m\u001b[38;2;237;0;126;48;2;30;0;16mh\u001b[0m\u001b[38;2;237;0;126;48;2;30;0;16me\u001b[0m\u001b[38;2;237;0;126;48;2;30;0;16mr\u001b[0m\u001b[38;2;248;248;242;48;2;39;40;34m \u001b[0m\u001b[38;2;174;129;255;48;2;39;40;34m0\u001b[0m\u001b[38;2;248;248;242;48;2;39;40;34m \u001b[0m\u001b[38;2;237;0;126;48;2;30;0;16mo\u001b[0m\u001b[38;2;237;0;126;48;2;30;0;16mr\u001b[0m\u001b[38;2;248;248;242;48;2;39;40;34m \u001b[0m\u001b[38;2;174;129;255;48;2;39;40;34m1\u001b[0m\u001b[48;2;39;40;34m                                                                 \u001b[0m\u001b[48;2;39;40;34m \u001b[0m\n",
       "\u001b[48;2;39;40;34m \u001b[0m\u001b[38;2;248;248;242;48;2;39;40;34m    \u001b[0m\u001b[38;2;255;70;137;48;2;39;40;34m\"reason\"\u001b[0m\u001b[38;2;248;248;242;48;2;39;40;34m:\u001b[0m\u001b[38;2;248;248;242;48;2;39;40;34m \u001b[0m\u001b[38;2;230;219;116;48;2;39;40;34m\"Detailed explanation of why this score was given, referencing specific strengths and weaknesses\"\u001b[0m\u001b[48;2;39;40;34m  \u001b[0m\u001b[48;2;39;40;34m \u001b[0m\n",
       "\u001b[48;2;39;40;34m \u001b[0m\u001b[38;2;248;248;242;48;2;39;40;34m}}\u001b[0m\u001b[48;2;39;40;34m                                                                                                               \u001b[0m\u001b[48;2;39;40;34m \u001b[0m\n",
       "\u001b[48;2;39;40;34m                                                                                                                   \u001b[0m\n",
       "\n",
       "Evaluate this extraction: {text}                                                                                   \n"
      ]
     },
     "metadata": {},
     "output_type": "display_data"
    }
   ],
   "source": [
    "display_prompt(medical_task_score_system_prompt)\n",
    "display_prompt(medical_task_score_prompt)"
   ]
  },
  {
   "cell_type": "code",
   "execution_count": 25,
   "metadata": {},
   "outputs": [],
   "source": [
    "@weave.op()\n",
    "def judge_overall_score(model_output: str):\n",
    "    llm = LLMClient(model_name=MODEL, client_type=MODEL_CLIENT)\n",
    "    response = llm.predict(user_prompt=medical_task_score_prompt.format(text=model_output), system_prompt=medical_task_score_system_prompt, schema=MedicalTaskScoreJudgement)\n",
    "    try:\n",
    "        result = json.loads(response.text.strip(\"\\n\"))\n",
    "        return result[0][\"score\"]\n",
    "    except:\n",
    "        return 0 #TODO: Add json parsing as failure reason\n"
   ]
  },
  {
   "cell_type": "code",
   "execution_count": 26,
   "metadata": {},
   "outputs": [
    {
     "name": "stdout",
     "output_type": "stream",
     "text": [
      "🍩 https://wandb.ai/eval-course/eval_course_ch1_dev/r/call/0192e825-8001-7573-8616-7af34c4f7a5a\n"
     ]
    },
    {
     "data": {
      "text/plain": [
       "0"
      ]
     },
     "execution_count": 26,
     "metadata": {},
     "output_type": "execute_result"
    }
   ],
   "source": [
    "judge_overall_score(test_output)"
   ]
  },
  {
   "cell_type": "markdown",
   "metadata": {},
   "source": [
    "### We already have a dataset of annotated medical data. We can use our tests to evaluate the outputs of our LLM."
   ]
  },
  {
   "cell_type": "code",
   "execution_count": 27,
   "metadata": {},
   "outputs": [],
   "source": [
    "@weave.op()\n",
    "def annotated_data_passthrough(input, output):\n",
    "    return output"
   ]
  },
  {
   "cell_type": "code",
   "execution_count": 28,
   "metadata": {},
   "outputs": [
    {
     "data": {
      "text/plain": [
       "0"
      ]
     },
     "execution_count": 28,
     "metadata": {},
     "output_type": "execute_result"
    }
   ],
   "source": [
    "annotated_medical_data[0][2]"
   ]
  },
  {
   "cell_type": "code",
   "execution_count": 29,
   "metadata": {},
   "outputs": [],
   "source": [
    "evaluation_data = [\n",
    "    {\"input\": annotated_row[0][\"input\"], \"output\": annotated_row[1][\"output\"], \"scores\": {\"human_required_keys\": annotated_row[3][\"presence_of_keys\"], \"human_word_limit\": annotated_row[3][\"word_count\"], \"human_absence_of_PII\": annotated_row[3][\"absence_of_PII\"], \"human_overall_score\": annotated_row[2]}}\n",
    "    for annotated_row in annotated_medical_data\n",
    "][0:5]"
   ]
  },
  {
   "cell_type": "code",
   "execution_count": 31,
   "metadata": {},
   "outputs": [
    {
     "data": {
      "text/html": [
       "<pre style=\"white-space:pre;overflow-x:auto;line-height:normal;font-family:Menlo,'DejaVu Sans Mono',consolas,'Courier New',monospace\">Evaluated <span style=\"color: #008080; text-decoration-color: #008080; font-weight: bold\">1</span> of <span style=\"color: #008080; text-decoration-color: #008080; font-weight: bold\">5</span> examples\n",
       "</pre>\n"
      ],
      "text/plain": [
       "Evaluated \u001b[1;36m1\u001b[0m of \u001b[1;36m5\u001b[0m examples\n"
      ]
     },
     "metadata": {},
     "output_type": "display_data"
    },
    {
     "data": {
      "text/html": [
       "<pre style=\"white-space:pre;overflow-x:auto;line-height:normal;font-family:Menlo,'DejaVu Sans Mono',consolas,'Courier New',monospace\">Evaluated <span style=\"color: #008080; text-decoration-color: #008080; font-weight: bold\">2</span> of <span style=\"color: #008080; text-decoration-color: #008080; font-weight: bold\">5</span> examples\n",
       "</pre>\n"
      ],
      "text/plain": [
       "Evaluated \u001b[1;36m2\u001b[0m of \u001b[1;36m5\u001b[0m examples\n"
      ]
     },
     "metadata": {},
     "output_type": "display_data"
    },
    {
     "data": {
      "text/html": [
       "<pre style=\"white-space:pre;overflow-x:auto;line-height:normal;font-family:Menlo,'DejaVu Sans Mono',consolas,'Courier New',monospace\">Evaluated <span style=\"color: #008080; text-decoration-color: #008080; font-weight: bold\">3</span> of <span style=\"color: #008080; text-decoration-color: #008080; font-weight: bold\">5</span> examples\n",
       "</pre>\n"
      ],
      "text/plain": [
       "Evaluated \u001b[1;36m3\u001b[0m of \u001b[1;36m5\u001b[0m examples\n"
      ]
     },
     "metadata": {},
     "output_type": "display_data"
    },
    {
     "data": {
      "text/html": [
       "<pre style=\"white-space:pre;overflow-x:auto;line-height:normal;font-family:Menlo,'DejaVu Sans Mono',consolas,'Courier New',monospace\">Evaluated <span style=\"color: #008080; text-decoration-color: #008080; font-weight: bold\">4</span> of <span style=\"color: #008080; text-decoration-color: #008080; font-weight: bold\">5</span> examples\n",
       "</pre>\n"
      ],
      "text/plain": [
       "Evaluated \u001b[1;36m4\u001b[0m of \u001b[1;36m5\u001b[0m examples\n"
      ]
     },
     "metadata": {},
     "output_type": "display_data"
    },
    {
     "data": {
      "text/html": [
       "<pre style=\"white-space:pre;overflow-x:auto;line-height:normal;font-family:Menlo,'DejaVu Sans Mono',consolas,'Courier New',monospace\">Evaluated <span style=\"color: #008080; text-decoration-color: #008080; font-weight: bold\">5</span> of <span style=\"color: #008080; text-decoration-color: #008080; font-weight: bold\">5</span> examples\n",
       "</pre>\n"
      ],
      "text/plain": [
       "Evaluated \u001b[1;36m5\u001b[0m of \u001b[1;36m5\u001b[0m examples\n"
      ]
     },
     "metadata": {},
     "output_type": "display_data"
    },
    {
     "data": {
      "text/html": [
       "<pre style=\"white-space:pre;overflow-x:auto;line-height:normal;font-family:Menlo,'DejaVu Sans Mono',consolas,'Courier New',monospace\">Evaluation summary\n",
       "<span style=\"font-weight: bold\">{</span>\n",
       "    <span style=\"color: #008000; text-decoration-color: #008000\">'test_adheres_to_required_keys'</span>: <span style=\"font-weight: bold\">{</span><span style=\"color: #008000; text-decoration-color: #008000\">'mean'</span>: <span style=\"color: #008080; text-decoration-color: #008080; font-weight: bold\">0.0</span><span style=\"font-weight: bold\">}</span>,\n",
       "    <span style=\"color: #008000; text-decoration-color: #008000\">'test_adheres_to_word_limit'</span>: <span style=\"font-weight: bold\">{</span><span style=\"color: #008000; text-decoration-color: #008000\">'mean'</span>: <span style=\"color: #008080; text-decoration-color: #008080; font-weight: bold\">0.8</span><span style=\"font-weight: bold\">}</span>,\n",
       "    <span style=\"color: #008000; text-decoration-color: #008000\">'judge_adheres_to_privacy_guidelines'</span>: <span style=\"font-weight: bold\">{</span><span style=\"color: #008000; text-decoration-color: #008000\">'mean'</span>: <span style=\"color: #008080; text-decoration-color: #008080; font-weight: bold\">0.2</span><span style=\"font-weight: bold\">}</span>,\n",
       "    <span style=\"color: #008000; text-decoration-color: #008000\">'judge_overall_score'</span>: <span style=\"font-weight: bold\">{</span><span style=\"color: #008000; text-decoration-color: #008000\">'mean'</span>: <span style=\"color: #008080; text-decoration-color: #008080; font-weight: bold\">0.6</span><span style=\"font-weight: bold\">}</span>,\n",
       "    <span style=\"color: #008000; text-decoration-color: #008000\">'model_latency'</span>: <span style=\"font-weight: bold\">{</span><span style=\"color: #008000; text-decoration-color: #008000\">'mean'</span>: <span style=\"color: #008080; text-decoration-color: #008080; font-weight: bold\">0.00394744873046875</span><span style=\"font-weight: bold\">}</span>\n",
       "<span style=\"font-weight: bold\">}</span>\n",
       "</pre>\n"
      ],
      "text/plain": [
       "Evaluation summary\n",
       "\u001b[1m{\u001b[0m\n",
       "    \u001b[32m'test_adheres_to_required_keys'\u001b[0m: \u001b[1m{\u001b[0m\u001b[32m'mean'\u001b[0m: \u001b[1;36m0.0\u001b[0m\u001b[1m}\u001b[0m,\n",
       "    \u001b[32m'test_adheres_to_word_limit'\u001b[0m: \u001b[1m{\u001b[0m\u001b[32m'mean'\u001b[0m: \u001b[1;36m0.8\u001b[0m\u001b[1m}\u001b[0m,\n",
       "    \u001b[32m'judge_adheres_to_privacy_guidelines'\u001b[0m: \u001b[1m{\u001b[0m\u001b[32m'mean'\u001b[0m: \u001b[1;36m0.2\u001b[0m\u001b[1m}\u001b[0m,\n",
       "    \u001b[32m'judge_overall_score'\u001b[0m: \u001b[1m{\u001b[0m\u001b[32m'mean'\u001b[0m: \u001b[1;36m0.6\u001b[0m\u001b[1m}\u001b[0m,\n",
       "    \u001b[32m'model_latency'\u001b[0m: \u001b[1m{\u001b[0m\u001b[32m'mean'\u001b[0m: \u001b[1;36m0.00394744873046875\u001b[0m\u001b[1m}\u001b[0m\n",
       "\u001b[1m}\u001b[0m\n"
      ]
     },
     "metadata": {},
     "output_type": "display_data"
    },
    {
     "name": "stdout",
     "output_type": "stream",
     "text": [
      "🍩 https://wandb.ai/eval-course/eval_course_ch1_dev/r/call/0192e825-82fe-7c03-b03d-9eabe0c81ff5\n"
     ]
    }
   ],
   "source": [
    "# Create evaluation\n",
    "evaluation = weave.Evaluation(\n",
    "    dataset=evaluation_data,\n",
    "    scorers=[test_adheres_to_required_keys, test_adheres_to_word_limit, judge_adheres_to_privacy_guidelines, judge_overall_score]\n",
    ")\n",
    "\n",
    "# Run evaluation\n",
    "evals = asyncio.run(evaluation.evaluate(annotated_data_passthrough))"
   ]
  },
  {
   "cell_type": "markdown",
   "metadata": {},
   "source": [
    "### But do our test outputs adhere to the annotation expectations?\n",
    "\n",
    "We need to measure how well our automated evaluations match human judgment. We'll:\n",
    "\n",
    "1. **Measure Alignment**\n",
    "   - Compare automated test results with expert annotations using kappa scores\n",
    "   - Weight different aspects based on their importance (privacy, completeness, etc.)\n",
    "   - Find where automated tests disagree with human experts\n",
    "\n",
    "2. **Use These Results**\n",
    "   - Chapter 2 will focus on improving the LLM judges that show poor alignment\n",
    "   - We'll learn to refine prompts based on these alignment scores\n",
    "   - Build better evaluation systems by focusing on the weakest areas first\n",
    "\n",
    "These alignment measurements are crucial - they tell us which parts of our automated system need the most work, especially for critical aspects like privacy checks and medical accuracy."
   ]
  },
  {
   "cell_type": "code",
   "execution_count": 35,
   "metadata": {},
   "outputs": [],
   "source": [
    "eval_call_id = \"0192e825-82fe-7c03-b03d-9eabe0c81ff5\""
   ]
  },
  {
   "cell_type": "code",
   "execution_count": 36,
   "metadata": {},
   "outputs": [
    {
     "data": {
      "text/html": [
       "<div>\n",
       "<style scoped>\n",
       "    .dataframe tbody tr th:only-of-type {\n",
       "        vertical-align: middle;\n",
       "    }\n",
       "\n",
       "    .dataframe tbody tr th {\n",
       "        vertical-align: top;\n",
       "    }\n",
       "\n",
       "    .dataframe thead th {\n",
       "        text-align: right;\n",
       "    }\n",
       "</style>\n",
       "<table border=\"1\" class=\"dataframe\">\n",
       "  <thead>\n",
       "    <tr style=\"text-align: right;\">\n",
       "      <th></th>\n",
       "      <th>input</th>\n",
       "      <th>required_keys</th>\n",
       "      <th>word_limit</th>\n",
       "      <th>privacy</th>\n",
       "      <th>overall</th>\n",
       "    </tr>\n",
       "  </thead>\n",
       "  <tbody>\n",
       "    <tr>\n",
       "      <th>0</th>\n",
       "      <td>Dialogue: [doctor] hey dylan what's going on s...</td>\n",
       "      <td>(1, 0)</td>\n",
       "      <td>(1, 0)</td>\n",
       "      <td>(0, 0)</td>\n",
       "      <td>(0, 0)</td>\n",
       "    </tr>\n",
       "    <tr>\n",
       "      <th>1</th>\n",
       "      <td>Dialogue: [doctor] hello , mrs . peterson . [p...</td>\n",
       "      <td>(1, 0)</td>\n",
       "      <td>(1, 1)</td>\n",
       "      <td>(1, 0)</td>\n",
       "      <td>(1, 1)</td>\n",
       "    </tr>\n",
       "    <tr>\n",
       "      <th>2</th>\n",
       "      <td>Dialogue: [doctor] hey , ms. hill . nice to se...</td>\n",
       "      <td>(0, 0)</td>\n",
       "      <td>(1, 1)</td>\n",
       "      <td>(1, 0)</td>\n",
       "      <td>(0, 1)</td>\n",
       "    </tr>\n",
       "    <tr>\n",
       "      <th>3</th>\n",
       "      <td>Dialogue: [doctor] hi keith , how are you ? [p...</td>\n",
       "      <td>(1, 0)</td>\n",
       "      <td>(1, 1)</td>\n",
       "      <td>(0, 0)</td>\n",
       "      <td>(0, 0)</td>\n",
       "    </tr>\n",
       "    <tr>\n",
       "      <th>4</th>\n",
       "      <td>Dialogue: [doctor] okay so we are recording ok...</td>\n",
       "      <td>(0, 0)</td>\n",
       "      <td>(1, 1)</td>\n",
       "      <td>(1, 1)</td>\n",
       "      <td>(0, 1)</td>\n",
       "    </tr>\n",
       "  </tbody>\n",
       "</table>\n",
       "</div>"
      ],
      "text/plain": [
       "                                               input required_keys word_limit  \\\n",
       "0  Dialogue: [doctor] hey dylan what's going on s...        (1, 0)     (1, 0)   \n",
       "1  Dialogue: [doctor] hello , mrs . peterson . [p...        (1, 0)     (1, 1)   \n",
       "2  Dialogue: [doctor] hey , ms. hill . nice to se...        (0, 0)     (1, 1)   \n",
       "3  Dialogue: [doctor] hi keith , how are you ? [p...        (1, 0)     (1, 1)   \n",
       "4  Dialogue: [doctor] okay so we are recording ok...        (0, 0)     (1, 1)   \n",
       "\n",
       "  privacy overall  \n",
       "0  (0, 0)  (0, 0)  \n",
       "1  (1, 0)  (1, 1)  \n",
       "2  (1, 0)  (0, 1)  \n",
       "3  (0, 0)  (0, 0)  \n",
       "4  (1, 1)  (0, 1)  "
      ]
     },
     "execution_count": 36,
     "metadata": {},
     "output_type": "execute_result"
    }
   ],
   "source": [
    "df = get_evaluation_predictions(weave_client, eval_call_id)\n",
    "df"
   ]
  },
  {
   "cell_type": "code",
   "execution_count": 37,
   "metadata": {},
   "outputs": [
    {
     "name": "stdout",
     "output_type": "stream",
     "text": [
      "required_keys: 0.000\n",
      "word_limit: 0.000\n",
      "privacy: 0.286\n",
      "overall: 0.286\n"
     ]
    }
   ],
   "source": [
    "# Example usage:\n",
    "kappa_scores = calculate_kappa_scores(df)\n",
    "for metric, score in kappa_scores.items():\n",
    "    print(f\"{metric}: {score:.3f}\")"
   ]
  },
  {
   "cell_type": "code",
   "execution_count": 38,
   "metadata": {},
   "outputs": [
    {
     "name": "stdout",
     "output_type": "stream",
     "text": [
      "\n",
      "Weighted Aggregate Alignment Score: 0.143\n",
      "Privacy-Focused Alignment Score: 0.186\n"
     ]
    }
   ],
   "source": [
    "# Example weights (adjust these based on what's most important for your use case)\n",
    "weights = {\n",
    "    'required_keys': 0.3,    # High importance - core functionality\n",
    "    'privacy': 0.3,          # High importance - compliance/safety\n",
    "    'word_limit': 0.2,       # Medium importance - usability\n",
    "    'overall': 0.2           # Medium importance - general quality\n",
    "}\n",
    "\n",
    "# Calculate aggregate score\n",
    "aggregate_score = calculate_weighted_alignment(kappa_scores, weights)\n",
    "print(f\"\\nWeighted Aggregate Alignment Score: {aggregate_score:.3f}\")\n",
    "\n",
    "# You can easily try different weightings:\n",
    "privacy_focused_weights = {\n",
    "    'required_keys': 0.2,\n",
    "    'privacy': 0.5,          # Much higher weight on privacy\n",
    "    'word_limit': 0.15,\n",
    "    'overall': 0.15\n",
    "}\n",
    "\n",
    "privacy_focused_score = calculate_weighted_alignment(kappa_scores, privacy_focused_weights)\n",
    "print(f\"Privacy-Focused Alignment Score: {privacy_focused_score:.3f}\")"
   ]
  }
 ],
 "metadata": {
  "kernelspec": {
   "display_name": ".venv",
   "language": "python",
   "name": "python3"
  },
  "language_info": {
   "codemirror_mode": {
    "name": "ipython",
    "version": 3
   },
   "file_extension": ".py",
   "mimetype": "text/x-python",
   "name": "python",
   "nbconvert_exporter": "python",
   "pygments_lexer": "ipython3",
   "version": "3.10.12"
  }
 },
 "nbformat": 4,
 "nbformat_minor": 2
}
